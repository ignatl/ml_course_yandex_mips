{
 "cells": [
  {
   "cell_type": "code",
   "execution_count": 7,
   "metadata": {},
   "outputs": [],
   "source": [
    "import numpy as np\n",
    "import pandas as pd\n",
    "\n",
    "from scipy import stats\n",
    "from statsmodels.sandbox.stats.multicomp import multipletests"
   ]
  },
  {
   "cell_type": "code",
   "execution_count": 3,
   "metadata": {},
   "outputs": [
    {
     "data": {
      "text/html": [
       "<div>\n",
       "<style scoped>\n",
       "    .dataframe tbody tr th:only-of-type {\n",
       "        vertical-align: middle;\n",
       "    }\n",
       "\n",
       "    .dataframe tbody tr th {\n",
       "        vertical-align: top;\n",
       "    }\n",
       "\n",
       "    .dataframe thead th {\n",
       "        text-align: right;\n",
       "    }\n",
       "</style>\n",
       "<table border=\"1\" class=\"dataframe\">\n",
       "  <thead>\n",
       "    <tr style=\"text-align: right;\">\n",
       "      <th></th>\n",
       "      <th>Unnamed: 0</th>\n",
       "      <th>C4.5</th>\n",
       "      <th>C4.5+m</th>\n",
       "      <th>C4.5+cf</th>\n",
       "      <th>C4.5+m+cf</th>\n",
       "    </tr>\n",
       "  </thead>\n",
       "  <tbody>\n",
       "    <tr>\n",
       "      <td>0</td>\n",
       "      <td>adult (sample)</td>\n",
       "      <td>0.763</td>\n",
       "      <td>0.768</td>\n",
       "      <td>0.771</td>\n",
       "      <td>0.798</td>\n",
       "    </tr>\n",
       "    <tr>\n",
       "      <td>1</td>\n",
       "      <td>breast cancer</td>\n",
       "      <td>0.599</td>\n",
       "      <td>0.591</td>\n",
       "      <td>0.590</td>\n",
       "      <td>0.569</td>\n",
       "    </tr>\n",
       "    <tr>\n",
       "      <td>2</td>\n",
       "      <td>breast cancer wisconsin</td>\n",
       "      <td>0.954</td>\n",
       "      <td>0.971</td>\n",
       "      <td>0.968</td>\n",
       "      <td>0.967</td>\n",
       "    </tr>\n",
       "    <tr>\n",
       "      <td>3</td>\n",
       "      <td>cmc</td>\n",
       "      <td>0.628</td>\n",
       "      <td>0.661</td>\n",
       "      <td>0.654</td>\n",
       "      <td>0.657</td>\n",
       "    </tr>\n",
       "    <tr>\n",
       "      <td>4</td>\n",
       "      <td>ionosphere</td>\n",
       "      <td>0.882</td>\n",
       "      <td>0.888</td>\n",
       "      <td>0.886</td>\n",
       "      <td>0.898</td>\n",
       "    </tr>\n",
       "  </tbody>\n",
       "</table>\n",
       "</div>"
      ],
      "text/plain": [
       "                Unnamed: 0   C4.5  C4.5+m  C4.5+cf  C4.5+m+cf\n",
       "0           adult (sample)  0.763   0.768    0.771      0.798\n",
       "1            breast cancer  0.599   0.591    0.590      0.569\n",
       "2  breast cancer wisconsin  0.954   0.971    0.968      0.967\n",
       "3                      cmc  0.628   0.661    0.654      0.657\n",
       "4               ionosphere  0.882   0.888    0.886      0.898"
      ]
     },
     "execution_count": 3,
     "metadata": {},
     "output_type": "execute_result"
    }
   ],
   "source": [
    "aucs = pd.read_csv('AUCs.txt', sep='\\t')\n",
    "aucs.head()"
   ]
  },
  {
   "cell_type": "code",
   "execution_count": 6,
   "metadata": {},
   "outputs": [
    {
     "name": "stdout",
     "output_type": "stream",
     "text": [
      "C4.5 + C4.5+m: WilcoxonResult(statistic=6.5, pvalue=0.01075713311978963)\n",
      "C4.5 + C4.5+cf: WilcoxonResult(statistic=43.0, pvalue=0.861262330095348)\n",
      "C4.5 + C4.5+m+cf: WilcoxonResult(statistic=11.0, pvalue=0.015906444101703374)\n",
      "C4.5+m + C4.5+cf: WilcoxonResult(statistic=17.0, pvalue=0.046332729793395394)\n",
      "C4.5+m + C4.5+m+cf: WilcoxonResult(statistic=22.0, pvalue=0.3278256758446406)\n",
      "C4.5+cf + C4.5+m+cf: WilcoxonResult(statistic=10.0, pvalue=0.022909099354356588)\n"
     ]
    }
   ],
   "source": [
    "print('C4.5 + C4.5+m:', stats.wilcoxon(aucs['C4.5'], aucs['C4.5+m']))\n",
    "print('C4.5 + C4.5+cf:', stats.wilcoxon(aucs['C4.5'], aucs['C4.5+cf']))\n",
    "print('C4.5 + C4.5+m+cf:', stats.wilcoxon(aucs['C4.5'], aucs['C4.5+m+cf']))\n",
    "print('C4.5+m + C4.5+cf:', stats.wilcoxon(aucs['C4.5+m'], aucs['C4.5+cf']))\n",
    "print('C4.5+m + C4.5+m+cf:', stats.wilcoxon(aucs['C4.5+m'], aucs['C4.5+m+cf']))\n",
    "print('C4.5+cf + C4.5+m+cf:', stats.wilcoxon(aucs['C4.5+cf'], aucs['C4.5+m+cf']))"
   ]
  },
  {
   "cell_type": "code",
   "execution_count": 26,
   "metadata": {},
   "outputs": [],
   "source": [
    "wilcoxon_matrix = np.array([['C4.5 + C4.5+m', stats.wilcoxon(aucs['C4.5'], aucs['C4.5+m']).pvalue],\n",
    "                            ['C4.5 + C4.5+cf', stats.wilcoxon(aucs['C4.5'], aucs['C4.5+cf']).pvalue],\n",
    "                            ['C4.5 + C4.5+m+cf', stats.wilcoxon(aucs['C4.5'], aucs['C4.5+m+cf']).pvalue],\n",
    "                            ['C4.5+m + C4.5+cf', stats.wilcoxon(aucs['C4.5+m'], aucs['C4.5+cf']).pvalue],\n",
    "                            ['C4.5+m + C4.5+m+cf', stats.wilcoxon(aucs['C4.5+m'], aucs['C4.5+m+cf']).pvalue],\n",
    "                            ['C4.5+cf + C4.5+m+cf', stats.wilcoxon(aucs['C4.5+cf'], aucs['C4.5+m+cf']).pvalue]])"
   ]
  },
  {
   "cell_type": "code",
   "execution_count": 27,
   "metadata": {},
   "outputs": [
    {
     "data": {
      "text/plain": [
       "array([['C4.5 + C4.5+m', '0.01075713311978963'],\n",
       "       ['C4.5 + C4.5+cf', '0.861262330095348'],\n",
       "       ['C4.5 + C4.5+m+cf', '0.015906444101703374'],\n",
       "       ['C4.5+m + C4.5+cf', '0.046332729793395394'],\n",
       "       ['C4.5+m + C4.5+m+cf', '0.3278256758446406'],\n",
       "       ['C4.5+cf + C4.5+m+cf', '0.022909099354356588']], dtype='<U20')"
      ]
     },
     "execution_count": 27,
     "metadata": {},
     "output_type": "execute_result"
    }
   ],
   "source": [
    "wilcoxon_matrix"
   ]
  },
  {
   "cell_type": "code",
   "execution_count": 28,
   "metadata": {},
   "outputs": [
    {
     "data": {
      "text/plain": [
       "array([0.01075713, 0.86126233, 0.01590644, 0.04633273, 0.32782568,\n",
       "       0.0229091 ])"
      ]
     },
     "execution_count": 28,
     "metadata": {},
     "output_type": "execute_result"
    }
   ],
   "source": [
    "wilcoxon_matrix[:, 1].astype('float64')"
   ]
  },
  {
   "cell_type": "code",
   "execution_count": 24,
   "metadata": {},
   "outputs": [],
   "source": [
    "reject, p_corrected, a1, a2 = multipletests(wilcoxon_matrix[:, 1].astype('float64'), \n",
    "                                            alpha = 0.05, \n",
    "                                            method = 'holm')"
   ]
  },
  {
   "cell_type": "code",
   "execution_count": 30,
   "metadata": {},
   "outputs": [
    {
     "data": {
      "text/plain": [
       "array([False, False, False, False, False, False])"
      ]
     },
     "execution_count": 30,
     "metadata": {},
     "output_type": "execute_result"
    }
   ],
   "source": [
    "reject"
   ]
  },
  {
   "cell_type": "code",
   "execution_count": 31,
   "metadata": {},
   "outputs": [],
   "source": [
    "reject, p_corrected, a1, a2 = multipletests(wilcoxon_matrix[:, 1].astype('float64'), \n",
    "                                            alpha = 0.05, \n",
    "                                            method = 'fdr_bh')"
   ]
  },
  {
   "cell_type": "code",
   "execution_count": 32,
   "metadata": {},
   "outputs": [
    {
     "data": {
      "text/plain": [
       "array([ True, False,  True, False, False,  True])"
      ]
     },
     "execution_count": 32,
     "metadata": {},
     "output_type": "execute_result"
    }
   ],
   "source": [
    "reject"
   ]
  },
  {
   "cell_type": "code",
   "execution_count": null,
   "metadata": {},
   "outputs": [],
   "source": []
  }
 ],
 "metadata": {
  "kernelspec": {
   "display_name": "Python 3",
   "language": "python",
   "name": "python3"
  },
  "language_info": {
   "codemirror_mode": {
    "name": "ipython",
    "version": 3
   },
   "file_extension": ".py",
   "mimetype": "text/x-python",
   "name": "python",
   "nbconvert_exporter": "python",
   "pygments_lexer": "ipython3",
   "version": "3.7.4"
  }
 },
 "nbformat": 4,
 "nbformat_minor": 2
}
