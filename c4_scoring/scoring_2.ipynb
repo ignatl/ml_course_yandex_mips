{
 "cells": [
  {
   "cell_type": "code",
   "execution_count": 1,
   "metadata": {},
   "outputs": [
    {
     "name": "stdout",
     "output_type": "stream",
     "text": [
      "Populating the interactive namespace from numpy and matplotlib\n"
     ]
    }
   ],
   "source": [
    "import pandas as pd\n",
    "import statsmodels.stats.multitest as smm\n",
    "import scipy.stats as st\n",
    "import scipy\n",
    "\n",
    "%pylab inline"
   ]
  },
  {
   "cell_type": "code",
   "execution_count": 2,
   "metadata": {},
   "outputs": [
    {
     "data": {
      "text/html": [
       "<div>\n",
       "<style scoped>\n",
       "    .dataframe tbody tr th:only-of-type {\n",
       "        vertical-align: middle;\n",
       "    }\n",
       "\n",
       "    .dataframe tbody tr th {\n",
       "        vertical-align: top;\n",
       "    }\n",
       "\n",
       "    .dataframe thead th {\n",
       "        text-align: right;\n",
       "    }\n",
       "</style>\n",
       "<table border=\"1\" class=\"dataframe\">\n",
       "  <thead>\n",
       "    <tr style=\"text-align: right;\">\n",
       "      <th></th>\n",
       "      <th>ID</th>\n",
       "      <th>LIMIT_BAL</th>\n",
       "      <th>SEX</th>\n",
       "      <th>EDUCATION</th>\n",
       "      <th>MARRIAGE</th>\n",
       "      <th>AGE</th>\n",
       "      <th>PAY_0</th>\n",
       "      <th>PAY_2</th>\n",
       "      <th>PAY_3</th>\n",
       "      <th>PAY_4</th>\n",
       "      <th>...</th>\n",
       "      <th>BILL_AMT4</th>\n",
       "      <th>BILL_AMT5</th>\n",
       "      <th>BILL_AMT6</th>\n",
       "      <th>PAY_AMT1</th>\n",
       "      <th>PAY_AMT2</th>\n",
       "      <th>PAY_AMT3</th>\n",
       "      <th>PAY_AMT4</th>\n",
       "      <th>PAY_AMT5</th>\n",
       "      <th>PAY_AMT6</th>\n",
       "      <th>default</th>\n",
       "    </tr>\n",
       "  </thead>\n",
       "  <tbody>\n",
       "    <tr>\n",
       "      <th>0</th>\n",
       "      <td>1</td>\n",
       "      <td>20000</td>\n",
       "      <td>2</td>\n",
       "      <td>2</td>\n",
       "      <td>1</td>\n",
       "      <td>24</td>\n",
       "      <td>2</td>\n",
       "      <td>2</td>\n",
       "      <td>0</td>\n",
       "      <td>0</td>\n",
       "      <td>...</td>\n",
       "      <td>0</td>\n",
       "      <td>0</td>\n",
       "      <td>0</td>\n",
       "      <td>0</td>\n",
       "      <td>689</td>\n",
       "      <td>0</td>\n",
       "      <td>0</td>\n",
       "      <td>0</td>\n",
       "      <td>0</td>\n",
       "      <td>1</td>\n",
       "    </tr>\n",
       "    <tr>\n",
       "      <th>1</th>\n",
       "      <td>2</td>\n",
       "      <td>120000</td>\n",
       "      <td>2</td>\n",
       "      <td>2</td>\n",
       "      <td>2</td>\n",
       "      <td>26</td>\n",
       "      <td>0</td>\n",
       "      <td>2</td>\n",
       "      <td>0</td>\n",
       "      <td>0</td>\n",
       "      <td>...</td>\n",
       "      <td>3272</td>\n",
       "      <td>3455</td>\n",
       "      <td>3261</td>\n",
       "      <td>0</td>\n",
       "      <td>1000</td>\n",
       "      <td>1000</td>\n",
       "      <td>1000</td>\n",
       "      <td>0</td>\n",
       "      <td>2000</td>\n",
       "      <td>1</td>\n",
       "    </tr>\n",
       "    <tr>\n",
       "      <th>2</th>\n",
       "      <td>3</td>\n",
       "      <td>90000</td>\n",
       "      <td>2</td>\n",
       "      <td>2</td>\n",
       "      <td>2</td>\n",
       "      <td>34</td>\n",
       "      <td>0</td>\n",
       "      <td>0</td>\n",
       "      <td>0</td>\n",
       "      <td>0</td>\n",
       "      <td>...</td>\n",
       "      <td>14331</td>\n",
       "      <td>14948</td>\n",
       "      <td>15549</td>\n",
       "      <td>1518</td>\n",
       "      <td>1500</td>\n",
       "      <td>1000</td>\n",
       "      <td>1000</td>\n",
       "      <td>1000</td>\n",
       "      <td>5000</td>\n",
       "      <td>0</td>\n",
       "    </tr>\n",
       "    <tr>\n",
       "      <th>3</th>\n",
       "      <td>4</td>\n",
       "      <td>50000</td>\n",
       "      <td>2</td>\n",
       "      <td>2</td>\n",
       "      <td>1</td>\n",
       "      <td>37</td>\n",
       "      <td>0</td>\n",
       "      <td>0</td>\n",
       "      <td>0</td>\n",
       "      <td>0</td>\n",
       "      <td>...</td>\n",
       "      <td>28314</td>\n",
       "      <td>28959</td>\n",
       "      <td>29547</td>\n",
       "      <td>2000</td>\n",
       "      <td>2019</td>\n",
       "      <td>1200</td>\n",
       "      <td>1100</td>\n",
       "      <td>1069</td>\n",
       "      <td>1000</td>\n",
       "      <td>0</td>\n",
       "    </tr>\n",
       "    <tr>\n",
       "      <th>4</th>\n",
       "      <td>5</td>\n",
       "      <td>50000</td>\n",
       "      <td>1</td>\n",
       "      <td>2</td>\n",
       "      <td>1</td>\n",
       "      <td>57</td>\n",
       "      <td>0</td>\n",
       "      <td>0</td>\n",
       "      <td>0</td>\n",
       "      <td>0</td>\n",
       "      <td>...</td>\n",
       "      <td>20940</td>\n",
       "      <td>19146</td>\n",
       "      <td>19131</td>\n",
       "      <td>2000</td>\n",
       "      <td>36681</td>\n",
       "      <td>10000</td>\n",
       "      <td>9000</td>\n",
       "      <td>689</td>\n",
       "      <td>679</td>\n",
       "      <td>0</td>\n",
       "    </tr>\n",
       "    <tr>\n",
       "      <th>...</th>\n",
       "      <td>...</td>\n",
       "      <td>...</td>\n",
       "      <td>...</td>\n",
       "      <td>...</td>\n",
       "      <td>...</td>\n",
       "      <td>...</td>\n",
       "      <td>...</td>\n",
       "      <td>...</td>\n",
       "      <td>...</td>\n",
       "      <td>...</td>\n",
       "      <td>...</td>\n",
       "      <td>...</td>\n",
       "      <td>...</td>\n",
       "      <td>...</td>\n",
       "      <td>...</td>\n",
       "      <td>...</td>\n",
       "      <td>...</td>\n",
       "      <td>...</td>\n",
       "      <td>...</td>\n",
       "      <td>...</td>\n",
       "      <td>...</td>\n",
       "    </tr>\n",
       "    <tr>\n",
       "      <th>29995</th>\n",
       "      <td>29996</td>\n",
       "      <td>220000</td>\n",
       "      <td>1</td>\n",
       "      <td>3</td>\n",
       "      <td>1</td>\n",
       "      <td>39</td>\n",
       "      <td>0</td>\n",
       "      <td>0</td>\n",
       "      <td>0</td>\n",
       "      <td>0</td>\n",
       "      <td>...</td>\n",
       "      <td>88004</td>\n",
       "      <td>31237</td>\n",
       "      <td>15980</td>\n",
       "      <td>8500</td>\n",
       "      <td>20000</td>\n",
       "      <td>5003</td>\n",
       "      <td>3047</td>\n",
       "      <td>5000</td>\n",
       "      <td>1000</td>\n",
       "      <td>0</td>\n",
       "    </tr>\n",
       "    <tr>\n",
       "      <th>29996</th>\n",
       "      <td>29997</td>\n",
       "      <td>150000</td>\n",
       "      <td>1</td>\n",
       "      <td>3</td>\n",
       "      <td>2</td>\n",
       "      <td>43</td>\n",
       "      <td>0</td>\n",
       "      <td>0</td>\n",
       "      <td>0</td>\n",
       "      <td>0</td>\n",
       "      <td>...</td>\n",
       "      <td>8979</td>\n",
       "      <td>5190</td>\n",
       "      <td>0</td>\n",
       "      <td>1837</td>\n",
       "      <td>3526</td>\n",
       "      <td>8998</td>\n",
       "      <td>129</td>\n",
       "      <td>0</td>\n",
       "      <td>0</td>\n",
       "      <td>0</td>\n",
       "    </tr>\n",
       "    <tr>\n",
       "      <th>29997</th>\n",
       "      <td>29998</td>\n",
       "      <td>30000</td>\n",
       "      <td>1</td>\n",
       "      <td>2</td>\n",
       "      <td>2</td>\n",
       "      <td>37</td>\n",
       "      <td>4</td>\n",
       "      <td>3</td>\n",
       "      <td>2</td>\n",
       "      <td>0</td>\n",
       "      <td>...</td>\n",
       "      <td>20878</td>\n",
       "      <td>20582</td>\n",
       "      <td>19357</td>\n",
       "      <td>0</td>\n",
       "      <td>0</td>\n",
       "      <td>22000</td>\n",
       "      <td>4200</td>\n",
       "      <td>2000</td>\n",
       "      <td>3100</td>\n",
       "      <td>1</td>\n",
       "    </tr>\n",
       "    <tr>\n",
       "      <th>29998</th>\n",
       "      <td>29999</td>\n",
       "      <td>80000</td>\n",
       "      <td>1</td>\n",
       "      <td>3</td>\n",
       "      <td>1</td>\n",
       "      <td>41</td>\n",
       "      <td>1</td>\n",
       "      <td>0</td>\n",
       "      <td>0</td>\n",
       "      <td>0</td>\n",
       "      <td>...</td>\n",
       "      <td>52774</td>\n",
       "      <td>11855</td>\n",
       "      <td>48944</td>\n",
       "      <td>85900</td>\n",
       "      <td>3409</td>\n",
       "      <td>1178</td>\n",
       "      <td>1926</td>\n",
       "      <td>52964</td>\n",
       "      <td>1804</td>\n",
       "      <td>1</td>\n",
       "    </tr>\n",
       "    <tr>\n",
       "      <th>29999</th>\n",
       "      <td>30000</td>\n",
       "      <td>50000</td>\n",
       "      <td>1</td>\n",
       "      <td>2</td>\n",
       "      <td>1</td>\n",
       "      <td>46</td>\n",
       "      <td>0</td>\n",
       "      <td>0</td>\n",
       "      <td>0</td>\n",
       "      <td>0</td>\n",
       "      <td>...</td>\n",
       "      <td>36535</td>\n",
       "      <td>32428</td>\n",
       "      <td>15313</td>\n",
       "      <td>2078</td>\n",
       "      <td>1800</td>\n",
       "      <td>1430</td>\n",
       "      <td>1000</td>\n",
       "      <td>1000</td>\n",
       "      <td>1000</td>\n",
       "      <td>1</td>\n",
       "    </tr>\n",
       "  </tbody>\n",
       "</table>\n",
       "<p>30000 rows × 25 columns</p>\n",
       "</div>"
      ],
      "text/plain": [
       "          ID  LIMIT_BAL  SEX  EDUCATION  MARRIAGE  AGE  PAY_0  PAY_2  PAY_3  \\\n",
       "0          1      20000    2          2         1   24      2      2      0   \n",
       "1          2     120000    2          2         2   26      0      2      0   \n",
       "2          3      90000    2          2         2   34      0      0      0   \n",
       "3          4      50000    2          2         1   37      0      0      0   \n",
       "4          5      50000    1          2         1   57      0      0      0   \n",
       "...      ...        ...  ...        ...       ...  ...    ...    ...    ...   \n",
       "29995  29996     220000    1          3         1   39      0      0      0   \n",
       "29996  29997     150000    1          3         2   43      0      0      0   \n",
       "29997  29998      30000    1          2         2   37      4      3      2   \n",
       "29998  29999      80000    1          3         1   41      1      0      0   \n",
       "29999  30000      50000    1          2         1   46      0      0      0   \n",
       "\n",
       "       PAY_4  ...  BILL_AMT4  BILL_AMT5  BILL_AMT6  PAY_AMT1  PAY_AMT2  \\\n",
       "0          0  ...          0          0          0         0       689   \n",
       "1          0  ...       3272       3455       3261         0      1000   \n",
       "2          0  ...      14331      14948      15549      1518      1500   \n",
       "3          0  ...      28314      28959      29547      2000      2019   \n",
       "4          0  ...      20940      19146      19131      2000     36681   \n",
       "...      ...  ...        ...        ...        ...       ...       ...   \n",
       "29995      0  ...      88004      31237      15980      8500     20000   \n",
       "29996      0  ...       8979       5190          0      1837      3526   \n",
       "29997      0  ...      20878      20582      19357         0         0   \n",
       "29998      0  ...      52774      11855      48944     85900      3409   \n",
       "29999      0  ...      36535      32428      15313      2078      1800   \n",
       "\n",
       "       PAY_AMT3  PAY_AMT4  PAY_AMT5  PAY_AMT6  default  \n",
       "0             0         0         0         0        1  \n",
       "1          1000      1000         0      2000        1  \n",
       "2          1000      1000      1000      5000        0  \n",
       "3          1200      1100      1069      1000        0  \n",
       "4         10000      9000       689       679        0  \n",
       "...         ...       ...       ...       ...      ...  \n",
       "29995      5003      3047      5000      1000        0  \n",
       "29996      8998       129         0         0        0  \n",
       "29997     22000      4200      2000      3100        1  \n",
       "29998      1178      1926     52964      1804        1  \n",
       "29999      1430      1000      1000      1000        1  \n",
       "\n",
       "[30000 rows x 25 columns]"
      ]
     },
     "execution_count": 2,
     "metadata": {},
     "output_type": "execute_result"
    }
   ],
   "source": [
    "data = pd.read_csv('credit_card_default_analysis.csv')\n",
    "data"
   ]
  },
  {
   "cell_type": "markdown",
   "metadata": {},
   "source": [
    "## Размер кредитного лимита (LIMIT_BAL). ##\n",
    "В двух группах, тех людей, кто вернул кредит (default = 0) и тех, кто его не вернул (default = 1) проверьте гипотезы: a) о равенстве медианных значений кредитного лимита с помощью подходящей интервальной оценки b) о равенстве распределений с помощью одного из подходящих непараметрических критериев проверки равенства средних. Значимы ли полученные результаты с практической точки зрения ?"
   ]
  },
  {
   "cell_type": "code",
   "execution_count": 3,
   "metadata": {},
   "outputs": [
    {
     "data": {
      "image/png": "[encoded data removed]",
      "text/plain": [
       "<Figure size 720x432 with 2 Axes>"
      ]
     },
     "metadata": {
      "needs_background": "light"
     },
     "output_type": "display_data"
    }
   ],
   "source": [
    "cond = data.default == 0\n",
    "\n",
    "plt.figure(1, figsize=(10,6))\n",
    "plt.subplot(211)\n",
    "plt.hist(data.LIMIT_BAL[cond], 40, edgecolor='k')\n",
    "plt.xlim(0, 1e6)\n",
    "mean = data.LIMIT_BAL[cond].mean()\n",
    "plt.vlines(mean, 0, 2100)\n",
    "plt.text(mean, 2300, 'mean = ' + str(round(mean)))\n",
    "plt.title('Кредитный лимит вернувших долг')\n",
    "plt.xlabel('Сумма кредита')\n",
    "\n",
    "\n",
    "plt.subplot(212)\n",
    "plt.hist(data.LIMIT_BAL[~cond], 30, edgecolor='k')\n",
    "plt.xlim(0, 1e6)\n",
    "mean = data.LIMIT_BAL[~cond].mean()\n",
    "plt.vlines(mean, 0, 1000)\n",
    "plt.text(mean, 1200, 'mean = ' + str(round(mean)))\n",
    "plt.title('Кредитный лимит НЕ вернувших долг')\n",
    "plt.xlabel('Сумма кредита')\n",
    "plt.tight_layout()\n",
    "plt.show()"
   ]
  },
  {
   "cell_type": "markdown",
   "metadata": {},
   "source": [
    "Анализ гистограмм показывает, что данные распределены не нормально, следовательно, обоснованно использование непараметрических критериев. Распределения визуально отличаются - кредитный лимит \"хороших\" кредитов имеет более \"тяжелый хвост\", что говорит о том, что, скорее всего, добросовестные заемщики берут больше денег в долг. Данное предположение будет проверено с помощью механизм проверки гипотез."
   ]
  },
  {
   "cell_type": "markdown",
   "metadata": {},
   "source": [
    "### Проверка гипотезы о равенстве медиан интервальным методом и статистическим критерием ###\n",
    "**Выбранный метод:**  \n",
    "Бутстрап\n",
    "\n",
    "**Гипотезы:**  \n",
    "Проверяется гипотеза о равенстве медиан против двухсторонней альтернативы."
   ]
  },
  {
   "cell_type": "code",
   "execution_count": 4,
   "metadata": {},
   "outputs": [
    {
     "name": "stdout",
     "output_type": "stream",
     "text": [
      "Доверительный интервал для медианы размера кредита, который вернули = [150000. 150000.]\n",
      "Доверительный интервал для медианы размера кредита, который НЕ вернули = [80000. 90000.]\n",
      "Доверительный интервал разности медиан = [-70000. -60000.]\n"
     ]
    }
   ],
   "source": [
    "def get_bootstrap_samples(data, n_samples):\n",
    "    indices = np.random.randint(0, len(data), (n_samples, len(data)))\n",
    "    samples = data[indices]\n",
    "    return samples\n",
    "\n",
    "def stat_intervals(stat, alpha):\n",
    "    boundaries = np.percentile(stat, [100 * alpha / 2., 100 * (1 - alpha / 2.)])\n",
    "    return boundaries\n",
    "\n",
    "\n",
    "boot_samples = get_bootstrap_samples(np.array(data.LIMIT_BAL[cond]), 1000)\n",
    "medians_good = np.median(boot_samples, axis=1)\n",
    "\n",
    "print('Доверительный интервал для медианы размера кредита, который вернули =', stat_intervals(medians_good, 0.05))\n",
    "\n",
    "boot_samples = get_bootstrap_samples(np.array(data.LIMIT_BAL[~cond]), 1000)\n",
    "medians_bad = np.median(boot_samples, axis=1)\n",
    "print('Доверительный интервал для медианы размера кредита, который НЕ вернули =', stat_intervals(medians_bad, 0.05))\n",
    "\n",
    "print('Доверительный интервал разности медиан =', stat_intervals(medians_bad - medians_good, 0.05))"
   ]
  },
  {
   "cell_type": "markdown",
   "metadata": {},
   "source": [
    "Доверительные интервалы **не пересекаются**, интервал для разницы не содержит ноль, следовательно, гипотеза о равенстве медиан отвергается на уровне значимости 0.05. Заемщики, не способные вернуть кредит, чаще занимают меньшую сумму."
   ]
  },
  {
   "cell_type": "markdown",
   "metadata": {},
   "source": [
    "### Проверка гипотезы ###\n",
    "**Выбранный метод:**  \n",
    "Критерий Манна-Уитни\n",
    "\n",
    "**Гипотезы:**  \n",
    "Проверяется гипотеза о равенстве средних против двухсторонней альтернативы.\n",
    "\n",
    "**Требования:**\n",
    "Критерий не требует нормальности распределения данных или симметричности распределения. Его допустимо применять для имеющихся данных."
   ]
  },
  {
   "cell_type": "code",
   "execution_count": 5,
   "metadata": {},
   "outputs": [
    {
     "name": "stdout",
     "output_type": "stream",
     "text": [
      "Точечные оценки средних. Хорошие кредиты: 178099, плохие кредиты: 130109\n",
      "p-value = 6.127742909111652e-190 \n",
      "Гипотеза о равенстве средних отвергается на уровне значимости 0.05\n",
      "Эффект практически значим. Оценка размера эффекта: 47990\n"
     ]
    }
   ],
   "source": [
    "print('Точечные оценки средних. Хорошие кредиты: ', int(data.LIMIT_BAL[cond].mean()), ', плохие кредиты: ', int(data.LIMIT_BAL[~cond].mean()), sep='')\n",
    "\n",
    "p = st.mannwhitneyu(data.LIMIT_BAL[cond], data.LIMIT_BAL[~cond]).pvalue\n",
    "\n",
    "print('p-value =', p, '\\nГипотеза о равенстве средних отвергается на уровне значимости 0.05')\n",
    "print('Эффект практически значим. Оценка размера эффекта:', int(data.LIMIT_BAL[cond].mean()) - int(data.LIMIT_BAL[~cond].mean()))"
   ]
  },
  {
   "cell_type": "markdown",
   "metadata": {},
   "source": [
    "Средние размеры кредитов различны. Различия значимы статистически и практически, так как разница между точечными средними оценками значительна, равно как и расстояние между ближайшими границами доверительного интервала медиан.  \n",
    "  \n",
    "Оценка для размера эффекта: в среднем заемщики, не отдающие кредит, берут в долг на 47990 рублей меньше чем заемщики, отдающие кредит."
   ]
  },
  {
   "cell_type": "markdown",
   "metadata": {},
   "source": [
    "## Пол (SEX) ##\n",
    "Проверьте гипотезу о том, что гендерный состав группы людей вернувших и не вернувших кредит отличается. Хорошо, если вы предоставите несколько различных решений этой задачи (с помощью доверительного интервала и подходящего статистического критерия) "
   ]
  },
  {
   "cell_type": "code",
   "execution_count": 6,
   "metadata": {},
   "outputs": [
    {
     "data": {
      "text/plain": [
       "Text(0.5, 0, 'Пол')"
      ]
     },
     "execution_count": 6,
     "metadata": {},
     "output_type": "execute_result"
    },
    {
     "data": {
      "image/png": "[encoded data removed]",
      "text/plain": [
       "<Figure size 864x216 with 2 Axes>"
      ]
     },
     "metadata": {
      "needs_background": "light"
     },
     "output_type": "display_data"
    }
   ],
   "source": [
    "cond = data.default == 0\n",
    "\n",
    "plt.figure(figsize=(12, 3))\n",
    "plt.subplot(121)\n",
    "plt.hist((data.SEX[cond], data.SEX[~cond]), 2, density=False)\n",
    "plt.title('Ненормированная гистограмма')\n",
    "plt.legend(['Вернули кредит', 'Не вернули кредит'])\n",
    "plt.xlabel('Пол')\n",
    "\n",
    "plt.subplot(122)\n",
    "plt.hist((data.SEX[cond], data.SEX[~cond]), 2, density=True)\n",
    "plt.title('Нормированная гистограмма')\n",
    "plt.legend(['Вернули кредит', 'Не вернули кредит'])\n",
    "plt.xlabel('Пол')"
   ]
  },
  {
   "cell_type": "markdown",
   "metadata": {},
   "source": [
    "Анализ нормированной гистограммы показыает, что заемщики одного из полов чаще других не возвращают кредиты. Данная гипотеза требует формальной проверки.  \n",
    "\n",
    "Данные подчиняются распределению Бернулли, так как принимают одно из двух значений. Требуется проверить равенство отношения количества заемщиков одного пола к количеству заемщиков другого пола среди двух выборок.\n",
    "\n",
    "\n",
    "**Проверка будет проведена с использованием:**\n",
    " 1. Доверительного интервала для разности долей\n",
    " 2. Z-теста для двух независимых выборок"
   ]
  },
  {
   "cell_type": "code",
   "execution_count": 7,
   "metadata": {},
   "outputs": [],
   "source": [
    "def proportions_confint_diff_ind(sample1, sample2, alpha = 0.05):    \n",
    "    z = scipy.stats.norm.ppf(1 - alpha / 2.)   \n",
    "    p1 = float(sum(sample1)) / len(sample1)\n",
    "    p2 = float(sum(sample2)) / len(sample2)\n",
    "    \n",
    "    left_boundary = (p1 - p2) - z * np.sqrt(p1 * (1 - p1)/ len(sample1) + p2 * (1 - p2)/ len(sample2))\n",
    "    right_boundary = (p1 - p2) + z * np.sqrt(p1 * (1 - p1)/ len(sample1) + p2 * (1 - p2)/ len(sample2))\n",
    "    \n",
    "    return (left_boundary, right_boundary)\n",
    "\n",
    "def proportions_diff_z_stat_ind(sample1, sample2):\n",
    "    n1 = len(sample1)\n",
    "    n2 = len(sample2)\n",
    "    \n",
    "    p1 = float(sum(sample1)) / n1\n",
    "    p2 = float(sum(sample2)) / n2 \n",
    "    P = float(p1*n1 + p2*n2) / (n1 + n2)\n",
    "    \n",
    "    return (p1 - p2) / np.sqrt(P * (1 - P) * (1. / n1 + 1. / n2))\n",
    "\n",
    "def proportions_diff_z_test(z_stat, alternative = 'two-sided'):\n",
    "    if alternative not in ('two-sided', 'less', 'greater'):\n",
    "        raise ValueError(\"alternative not recognized\\n\"\n",
    "                         \"should be 'two-sided', 'less' or 'greater'\")\n",
    "    \n",
    "    if alternative == 'two-sided':\n",
    "        return 2 * (1 - scipy.stats.norm.cdf(np.abs(z_stat)))\n",
    "    \n",
    "    if alternative == 'less':\n",
    "        return scipy.stats.norm.cdf(z_stat)\n",
    "\n",
    "    if alternative == 'greater':\n",
    "        return 1 - scipy.stats.norm.cdf(z_stat)"
   ]
  },
  {
   "cell_type": "markdown",
   "metadata": {},
   "source": [
    "### Проверка гипотезы ###\n",
    "**Выбранный метод:**  \n",
    "Построение доверительного интервала для разности и Z-тест для доли\n",
    "\n",
    "**Гипотезы:**  \n",
    "Проверяется гипотеза об одинаковом гендерном составе против двухстороней альтернативы\n",
    "\n",
    "**Требования:**\n",
    "Критерий требует, чтоб величина принимала одно из двух значений (выполняется)"
   ]
  },
  {
   "cell_type": "code",
   "execution_count": 8,
   "metadata": {},
   "outputs": [
    {
     "name": "stdout",
     "output_type": "stream",
     "text": [
      "Разница в отношении количества заемщиков разного пола для \"хороших\" и \"плохих\" кредитов :\n",
      " (0.03363493274962867, 0.060548077974896725)\n",
      "Гипотеза отвергется на уровне значимости 0.05.\n"
     ]
    }
   ],
   "source": [
    "conf_int = proportions_confint_diff_ind(np.array(data.SEX[cond])-1, np.array(data.SEX[~cond])-1)\n",
    "print('Разница в отношении количества заемщиков разного пола для \"хороших\" и \"плохих\" кредитов :\\n', conf_int)\n",
    "print('Гипотеза отвергется на уровне значимости 0.05.')"
   ]
  },
  {
   "cell_type": "markdown",
   "metadata": {},
   "source": [
    "Данные диапазон не содержит в себе ноль, следовательно, гипотеза об одинаковом гендерном составе отвергается на уровне значимости 0.05. Данная проверка также проведена с помощью Z-теста:"
   ]
  },
  {
   "cell_type": "code",
   "execution_count": 9,
   "metadata": {},
   "outputs": [
    {
     "name": "stdout",
     "output_type": "stream",
     "text": [
      "p-value = 4.472866521609831e-12\n",
      "Гипотеза отвергется на уровне значимости 0.05.\n",
      "\n",
      "Эффект практически значим. Оценка для размера эффекта: на 4.709% больше женщин среди добросовестных заемщиков. С учетом количества людей, берущих кредиты, данное различие можно считать практически значимым.\n"
     ]
    }
   ],
   "source": [
    "Z_st = proportions_diff_z_stat_ind(np.array(data.SEX[cond])-1, np.array(data.SEX[~cond])-1)\n",
    "p_value = proportions_diff_z_test(Z_st)\n",
    "print('p-value =', p_value)\n",
    "print('Гипотеза отвергется на уровне значимости 0.05.')\n",
    "\n",
    "delta = ((np.array(data.SEX[cond])-1).mean() - (np.array(data.SEX[~cond])-1).mean()) * 100\n",
    "print('\\nЭффект практически значим. Оценка для размера эффекта: на {}% больше женщин среди добросовестных заемщиков. С учетом количества людей, берущих кредиты, данное различие можно считать практически значимым.'.format(round(delta, 3)))\n"
   ]
  },
  {
   "cell_type": "markdown",
   "metadata": {},
   "source": [
    "Достигаемый уровень значимости позволяет отвергнуть гипотезу об одинаковом гендерном составе отвергается на уровне значимости 0.05"
   ]
  },
  {
   "cell_type": "markdown",
   "metadata": {},
   "source": [
    "## Образование (EDUCATION): ##\n",
    "Проверьте гипотезу о том, что образование не влияет на то, вернет ли человек долг. Предложите способ наглядного представления разницы в ожидаемых и наблюдаемых значениях количества человек вернувших и не вернувших долг. Например, составьте таблицу сопряженности \"образование\" на \"возврат долга\", где значением ячейки была бы разность между наблюдаемым и ожидаемым количеством человек. Как бы вы предложили модифицировать таблицу так, чтобы привести значения ячеек к одному масштабу не потеряв в интерпретируемости ? Наличие какого образования является наилучшим индикатором того, что человек отдаст долг ? наоборт, не отдаст долг ? "
   ]
  },
  {
   "cell_type": "code",
   "execution_count": 10,
   "metadata": {},
   "outputs": [
    {
     "data": {
      "text/plain": [
       "Text(0.5, 0, 'Уроверь образования')"
      ]
     },
     "execution_count": 10,
     "metadata": {},
     "output_type": "execute_result"
    },
    {
     "data": {
      "image/png": "[encoded data removed]",
      "text/plain": [
       "<Figure size 432x288 with 1 Axes>"
      ]
     },
     "metadata": {
      "needs_background": "light"
     },
     "output_type": "display_data"
    }
   ],
   "source": [
    "cond = data.default == 0\n",
    "\n",
    "plt.hist((data.EDUCATION[cond], data.EDUCATION[~cond]), 7, density=False)\n",
    "plt.legend(['Вернули кредит', 'Не вернули кредит'])\n",
    "plt.xlabel('Уроверь образования')"
   ]
  },
  {
   "cell_type": "markdown",
   "metadata": {},
   "source": [
    "Данные на графиках распределены приблизительно одинаково. Для анализа требуется формальная проверка.\n",
    "\n",
    "### Проверка гипотезы ###\n",
    "**Выбранный метод:**  \n",
    "Критерий значимости корреляции $\\chi^2$ для категориальных признаков\n",
    "\n",
    "**Гипотезы:**  \n",
    "Проверяется гипотеза об отсуствии влияния образования на возврат кредитов против общей альтернативы\n",
    "\n",
    "**Требования:**\n",
    "Критерий требует, чтоб данные были категориальными (выполняется)"
   ]
  },
  {
   "cell_type": "code",
   "execution_count": 11,
   "metadata": {},
   "outputs": [
    {
     "name": "stdout",
     "output_type": "stream",
     "text": [
      "Наблюдаемые частоты:\n",
      " [[   14     0]\n",
      " [ 8549  2036]\n",
      " [10700  3330]\n",
      " [ 3680  1237]\n",
      " [  116     7]\n",
      " [  262    18]\n",
      " [   43     8]] \n",
      "\n",
      "Точечные оценки вероятностей возврата долга:\n",
      " [1.    0.808 0.763 0.748 0.943 0.936 0.843] \n",
      "\n",
      "p-value = 1.2332626245415605e-32. Гипотеза о независимости возврата долга от уровня образования отвергается\n",
      "\n",
      "Графики долей возврата и не возврата в зависимости от образования\n"
     ]
    },
    {
     "data": {
      "image/png": "[encoded data removed]",
      "text/plain": [
       "<Figure size 720x360 with 6 Axes>"
      ]
     },
     "metadata": {
      "needs_background": "light"
     },
     "output_type": "display_data"
    }
   ],
   "source": [
    "def get_con_table(a, b):\n",
    "    a_vals = np.unique(a)\n",
    "    b_vals = np.unique(b)\n",
    "    table = np.zeros((len(a_vals),len(b_vals)), dtype=int)\n",
    "    for i in range(len(a_vals)):\n",
    "        for j in range(len(b_vals)):\n",
    "            table[i, j] = sum((a == a_vals[i]) & (b == b_vals[j]))\n",
    "    return table\n",
    "\n",
    "obs = get_con_table(data.EDUCATION, data.default)\n",
    "_, p_val, _, expected = st.chi2_contingency(obs)\n",
    "\n",
    "print('Наблюдаемые частоты:\\n', obs, '\\n')\n",
    "\n",
    "print('Точечные оценки вероятностей возврата долга:\\n', np.round((obs.T/obs.sum(axis=1))[0], 3), '\\n')\n",
    "\n",
    "print('p-value = {}. Гипотеза о независимости возврата долга от уровня образования отвергается\\n'.format(p_val))\n",
    "\n",
    "plt.figure(figsize=(10, 5))\n",
    "print('Графики долей возврата и не возврата в зависимости от образования')\n",
    "\n",
    "plt.subplot(311)\n",
    "plt.title('Наблюдаемые доли')\n",
    "plt.imshow(obs.T/obs.sum(axis=1), cmap='gist_gray')\n",
    "plt.colorbar()\n",
    "plt.gca().set_yticklabels(['','Возврат', 'Не возврат'])\n",
    "plt.gca().set_xticklabels(['', 'PhD', 'MS', 'BS', 'School', 'Prim', 'Other', 'NaN'])\n",
    "\n",
    "plt.subplot(312)\n",
    "plt.title('Ожидаемые доли')\n",
    "plt.imshow(expected.T/expected.sum(axis=1), cmap='gist_gray', vmin=0, vmax=1)\n",
    "plt.colorbar()\n",
    "plt.gca().set_yticklabels(['','Возврат', 'Не возврат'])\n",
    "plt.gca().set_xticklabels(['', 'PhD', 'MS', 'BS', 'School', 'Prim', 'Other', 'NaN'])\n",
    "plt.tight_layout()\n",
    "\n",
    "plt.subplot(313)\n",
    "plt.title('Разница между наблюдаемыми и ожидаемыми')\n",
    "plt.imshow((obs - expected).T/expected.sum(axis=1), cmap='bwr', vmin=-1, vmax=1)\n",
    "plt.colorbar()\n",
    "plt.gca().set_yticklabels(['','Возврат', 'Не возврат'])\n",
    "plt.gca().set_xticklabels(['', 'PhD', 'MS', 'BS', 'School', 'Prim', 'Other', 'NaN'])\n",
    "plt.tight_layout()"
   ]
  },
  {
   "cell_type": "markdown",
   "metadata": {},
   "source": [
    " > Наличие какого образования является наилучшим индикатором того, что человек отдаст долг? наоборт, не отдаст долг?  \n",
    "\n",
    "Ответ на вопрос:\n",
    " 1. Наличие докторской степени является наилучшим индикатором того, что человек отдаст долг.\n",
    " 2. Наличие школьного образования является лучшим индикатором того, что человек не отдаст долг.\n",
    " \n",
    " ### ответили бы мы так, если бы не знали статистику ###\n",
    " \n",
    "Данных по докторам очень мало, и такие результаты могли получится случайно. У людей с начальным образованием и людей в категории \"другое\" тоже высокие точечные оценки. Нулевая гипотеза: шансы возврата денег равны у докторов и людей с начальным образованием, и у докторов и заемщиков из категории \"другое\". Обе гипотезы проверяются против общей альтернативы. Это проверка двух гипотез, поэтому будет сделана поправка на множественную проверку."
   ]
  },
  {
   "cell_type": "code",
   "execution_count": 12,
   "metadata": {},
   "outputs": [
    {
     "name": "stdout",
     "output_type": "stream",
     "text": [
      "Можем ли откинуть гипотезы? [False False]\n",
      "Скорректированные уровни значимости [0.65503145 0.65503145]\n"
     ]
    }
   ],
   "source": [
    "phd_def = data.default[data.EDUCATION == 0]#3\n",
    "prim_def = data.default[data.EDUCATION == 4]\n",
    "oth_def = data.default[data.EDUCATION == 5]\n",
    "\n",
    "probs = []\n",
    "\n",
    "Z_st = proportions_diff_z_stat_ind(np.array(phd_def), np.array(prim_def))\n",
    "p_value = proportions_diff_z_test(Z_st)\n",
    "probs.append(p_value)\n",
    "\n",
    "Z_st = proportions_diff_z_stat_ind(np.array(phd_def), np.array(oth_def))\n",
    "p_value = proportions_diff_z_test(Z_st)\n",
    "probs.append(p_value)\n",
    "\n",
    "\n",
    "rej, p_vals, *_ = smm.multipletests(probs, method='holm')\n",
    "\n",
    "print('Можем ли откинуть гипотезы?', rej)\n",
    "print('Скорректированные уровни значимости', p_vals)"
   ]
  },
  {
   "cell_type": "markdown",
   "metadata": {},
   "source": [
    "Можно повторить тест на значимость корреляции для категорий докторов, \"начальное образование\" и \"другое\" против общей альтернативы. Гипотеза не будет отвергнута, так как эти категории одинаково хорошо возвращают деньги."
   ]
  },
  {
   "cell_type": "code",
   "execution_count": 13,
   "metadata": {},
   "outputs": [
    {
     "name": "stdout",
     "output_type": "stream",
     "text": [
      "Достигаемый уровень значимости 0.60, мы не можем отвергнуть гипотезу о зависимости уровня образования для этих категорий\n"
     ]
    }
   ],
   "source": [
    "temp_cond = np.array([E in [0,4,5] for E in data.EDUCATION])\n",
    "obs = get_con_table(data.EDUCATION[temp_cond], data.default[temp_cond])\n",
    "_, p_val, _, expected = st.chi2_contingency(obs)\n",
    "print('Достигаемый уровень значимости {:0.2f}, мы не можем отвергнуть гипотезу о зависимости уровня образования для этих категорий'.format(p_val))"
   ]
  },
  {
   "cell_type": "markdown",
   "metadata": {},
   "source": [
    "Для ответа на вопрос о категории, которая хуже всех возвращает долги, следует протестировать школьников (у них худшая точечная оценка) и бакалавров (следующие по \"возвращаемости\")"
   ]
  },
  {
   "cell_type": "code",
   "execution_count": 14,
   "metadata": {},
   "outputs": [
    {
     "name": "stdout",
     "output_type": "stream",
     "text": [
      "p-value = 0.04473034193821812\n",
      "Гипотеза отвергется на уровне значимости 0.05.\n"
     ]
    }
   ],
   "source": [
    "def1 = data.default[data.EDUCATION == 2]\n",
    "def2 = data.default[data.EDUCATION == 3]\n",
    "\n",
    "Z_st = proportions_diff_z_stat_ind(np.array(def1), np.array(def2))\n",
    "p_value = proportions_diff_z_test(Z_st)\n",
    "print('p-value =', p_value)\n",
    "print('Гипотеза отвергется на уровне значимости 0.05.')"
   ]
  },
  {
   "cell_type": "markdown",
   "metadata": {},
   "source": [
    " > Наличие какого образования является наилучшим индикатором того, что человек отдаст долг? наоборт, не отдаст долг?  \n",
    "\n",
    "Ответ на вопрос:\n",
    " 1. Имеющихся данных недостаточно, чтоб сделать статистически значимые выводы о единственности категории лучших заемщиков. Наиболее занежные категории: доктора, школьники и \"другое\"\n",
    " 2. Наличие школьного образования является лучшим индикатором того, что человек не отдаст долг.\n",
    " \n",
    "Оценка практической значимости обнаруженного эффекта:  \n",
    "Упорядочим шансы на возврат и вычислим разность между соседними шансами (если бы от уровня образования шансы не зависили, то эти величины были бы близки к нулю)  \n",
    "  \n",
    "Объем потребительских кредитов за 2019 год равен 8.2 миллиарда. Источник:\n",
    "https://asros.ru/upload/iblock/032/Obzor-rynka-potrebitelskogo-kreditovaniya_1-polugodie-2019.pdf  \n",
    "Умножим среднее разниц на этот показатель. Это будет оценкой размера эффекта."
   ]
  },
  {
   "cell_type": "code",
   "execution_count": 15,
   "metadata": {},
   "outputs": [
    {
     "name": "stdout",
     "output_type": "stream",
     "text": [
      "Оценка размера эффекта: 343820757914.72 рублей. Эффект практически значим.\n"
     ]
    }
   ],
   "source": [
    "obs = get_con_table(data.EDUCATION, data.default)\n",
    "diff = np.diff(np.sort((obs.T/obs.sum(axis=1))[0]))\n",
    "\n",
    "val = 8.2e12\n",
    "print('Оценка размера эффекта: {:.2f} рублей. Эффект практически значим.'.format(val * diff.mean()))"
   ]
  },
  {
   "cell_type": "markdown",
   "metadata": {},
   "source": [
    "## Семейное положение (MARRIAGE): ##\n",
    "Проверьте, как связан семейный статус с индикатором дефолта: нужно предложить меру, по которой можно измерить возможную связь этих переменных и посчитать ее значение."
   ]
  },
  {
   "cell_type": "code",
   "execution_count": 16,
   "metadata": {},
   "outputs": [
    {
     "data": {
      "text/plain": [
       "Text(0.5, 0, 'Уроверь образования')"
      ]
     },
     "execution_count": 16,
     "metadata": {},
     "output_type": "execute_result"
    },
    {
     "data": {
      "image/png": "[encoded data removed]",
      "text/plain": [
       "<Figure size 432x288 with 1 Axes>"
      ]
     },
     "metadata": {
      "needs_background": "light"
     },
     "output_type": "display_data"
    }
   ],
   "source": [
    "cond = data.default == 0\n",
    "\n",
    "plt.hist((data.MARRIAGE[cond], data.MARRIAGE[~cond]), 4, density=False)\n",
    "plt.legend(['Вернули кредит', 'Не вернули кредит'])\n",
    "plt.xlabel('Уроверь образования')"
   ]
  },
  {
   "cell_type": "markdown",
   "metadata": {},
   "source": [
    "Данные на графиках распределены приблизительно одинаково. Для анализа требуется формальная проверка.\n",
    "\n",
    "Сначала требуется проверить, присутствует ли взаимосвязь между возвратом кредитов и семейным положением.\n",
    "\n",
    "### Проверка гипотезы ###\n",
    "**Выбранный метод:**  \n",
    "Критерий значимости корреляции $\\chi^2$ для категориальных признаков\n",
    "\n",
    "**Гипотезы:**  \n",
    "Проверяется гипотеза об отсуствии влияния семейного положения на возврат кредитов против общей альтернативы\n",
    "\n",
    "**Требования:**\n",
    "Критерий требует, чтоб данные были категориальными (выполняется)"
   ]
  },
  {
   "cell_type": "code",
   "execution_count": 17,
   "metadata": {},
   "outputs": [
    {
     "name": "stdout",
     "output_type": "stream",
     "text": [
      "Таблица сопряженности\n",
      " [[   49     5]\n",
      " [10453  3206]\n",
      " [12623  3341]\n",
      " [  239    84]] \n",
      "\n",
      "Достагаемый уровень значимости = 8.825862457577375e-08\n",
      "Гипотеза отвергется на уровне значимости 0.05.\n"
     ]
    }
   ],
   "source": [
    "obs = get_con_table(data.MARRIAGE, data.default)\n",
    "\n",
    "print('Таблица сопряженности\\n', obs, '\\n')\n",
    "\n",
    "_, p_val, _, expected = st.chi2_contingency(obs)\n",
    "print('Достагаемый уровень значимости =', p_val)\n",
    "print('Гипотеза отвергется на уровне значимости 0.05.')"
   ]
  },
  {
   "cell_type": "markdown",
   "metadata": {},
   "source": [
    "Гипотеза об отсутствии связи отвергается.  \n",
    "Далее требуется выбрать меру для оценки этой связи. Предлагаемая мера - **корреляция V Крамера**. Альтернативная предлагаемая мера (более просто интерпретируемая) - разность оценок шанса возврата кредита для вредиторов с семьей и без. Категории \"неизвестно\" и \"отказываюсь отвечать\" будут выброшены, так как их доля в выборке слишком мала (~1%). Перед этим дополнительно будет проведен Z-test для проверки различия средних между этими двумя категориями."
   ]
  },
  {
   "cell_type": "code",
   "execution_count": 18,
   "metadata": {},
   "outputs": [
    {
     "name": "stdout",
     "output_type": "stream",
     "text": [
      "Значение корреляции V Крамера =0.034478203662766466. Значение малое, однако проверенный ранее критерий говорит, что данное значение статистически значимо.\n"
     ]
    }
   ],
   "source": [
    "def corr_v_cramer(con):\n",
    "    chi2_val, *_ = st.chi2_contingency(con, correction=False)\n",
    "    k1 = con.shape[0]\n",
    "    k2 = con.shape[1]\n",
    "    n = np.sum(con)\n",
    "    V = np.sqrt(chi2_val / (n * (np.min([k1, k2]) - 1)))\n",
    "    return V\n",
    "\n",
    "print('Значение корреляции V Крамера ={}. Значение малое, однако проверенный ранее критерий говорит, что данное значение статистически значимо.'.format(corr_v_cramer(obs)))"
   ]
  },
  {
   "cell_type": "markdown",
   "metadata": {},
   "source": [
    "### Проверка гипотезы ###\n",
    "**Выбранный метод:**  \n",
    "Построение доверительного интервала для разности и Z-тест для доли\n",
    "\n",
    "**Гипотезы:**  \n",
    "Проверяется гипотеза об одинаковой доле возврата кредитов у семейных и холостых заемщиков против двухстороней альтернативы\n",
    "\n",
    "**Требования:**\n",
    "Критерий требует, чтоб величина принимала одно из двух значений (выполняется)"
   ]
  },
  {
   "cell_type": "code",
   "execution_count": 19,
   "metadata": {},
   "outputs": [
    {
     "name": "stdout",
     "output_type": "stream",
     "text": [
      "p-value = 1.448514344026819e-07\n",
      "Разность долей статистически значима, гипотеза отвергется на уровне значимости 0.05.\n",
      "Интерпретация предлагаемой меры: холостые заемщики отдают кредит с вероятностью на 2.54% меньше, чем заемщики в браке\n",
      "С учетом объемов кредитования результат практически значим.\n"
     ]
    }
   ],
   "source": [
    "temp_cond_1 = data.MARRIAGE == 1\n",
    "temp_cond_2 = data.MARRIAGE == 2\n",
    "\n",
    "\n",
    "Z_st = proportions_diff_z_stat_ind(np.array(data.default[temp_cond_1]), np.array(data.default[temp_cond_2]))\n",
    "p_value = proportions_diff_z_test(Z_st)\n",
    "print('p-value =', p_value)\n",
    "print('Разность долей статистически значима, гипотеза отвергется на уровне значимости 0.05.')\n",
    "\n",
    "delta = (np.array(data.default[temp_cond_1]).mean() - np.array(data.default[temp_cond_2]).mean()) * 100\n",
    "\n",
    "print('Интерпретация предлагаемой меры: холостые заемщики отдают кредит с вероятностью на {:.2f}% меньше, чем заемщики в браке'.format(delta))\n",
    "print('С учетом объемов кредитования результат практически значим.')"
   ]
  },
  {
   "cell_type": "markdown",
   "metadata": {},
   "source": [
    "## Возраст (AGE): ##\n",
    "Относительно двух групп людей вернувших и не вернувших кредит проверьте следующие гипотезы: a) о равенстве медианных значений возрастов людей b) о равенстве распределений с помощью одного из подходящих непараметрических критериев проверки равенства средних. Значимы ли полученные результаты с практической точки зрения ?"
   ]
  },
  {
   "cell_type": "code",
   "execution_count": 20,
   "metadata": {},
   "outputs": [
    {
     "data": {
      "image/png": "[encoded data removed]",
      "text/plain": [
       "<Figure size 720x432 with 2 Axes>"
      ]
     },
     "metadata": {
      "needs_background": "light"
     },
     "output_type": "display_data"
    }
   ],
   "source": [
    "cond = data.default == 0\n",
    "\n",
    "plt.figure(1, figsize=(10,6))\n",
    "plt.subplot(211)\n",
    "plt.hist(data.AGE[cond], 29, edgecolor='k')\n",
    "plt.xlim(20, 80)\n",
    "mean = data.AGE[cond].mean()\n",
    "plt.title('Возраст вернувших долг')\n",
    "\n",
    "plt.subplot(212)\n",
    "plt.hist(data.AGE[~cond], 26, edgecolor='k')\n",
    "plt.xlim(20, 80)\n",
    "mean = data.AGE[~cond].mean()\n",
    "plt.title('Возраст НЕ вернувших долг')\n",
    "plt.tight_layout()\n",
    "plt.show()"
   ]
  },
  {
   "cell_type": "markdown",
   "metadata": {},
   "source": [
    "Данные на графиках распределены приблизительно одинаково. Для анализа требуется формальная проверка.\n",
    "\n",
    "\n",
    "### Проверка гипотезы о равенстве медиан интервальным методом ###\n",
    "**Выбранный метод:**  \n",
    "Бутстрап\n",
    "\n",
    "**Гипотезы:**  \n",
    "Проверяется гипотеза о равенстве медиан против двухсторонней альтернативы.\n",
    "\n",
    "**Требования:**\n",
    "Требования для применения методы выполненяются"
   ]
  },
  {
   "cell_type": "code",
   "execution_count": 21,
   "metadata": {},
   "outputs": [
    {
     "name": "stdout",
     "output_type": "stream",
     "text": [
      "Доверительный интервал для медианы возраста заемщика вернувшего долг [34. 34.]\n",
      "Доверительный интервал для медианы возраста заемщика НЕ вернувшего долг = [34. 35.]\n",
      "Интервалы пересекаются, требуется построить интервал для разности медиан\n",
      "Доверительный интервал разности медиан = [0. 1.]\n"
     ]
    }
   ],
   "source": [
    "boot_samples = get_bootstrap_samples(np.array(data.AGE[cond]), 1000)\n",
    "medians_good = np.median(boot_samples, axis=1)\n",
    "print('Доверительный интервал для медианы возраста заемщика вернувшего долг', stat_intervals(medians_good, 0.05))\n",
    "\n",
    "boot_samples = get_bootstrap_samples(np.array(data.AGE[~cond]), 1000)\n",
    "medians_bad = np.median(boot_samples, axis=1)\n",
    "print('Доверительный интервал для медианы возраста заемщика НЕ вернувшего долг =', stat_intervals(medians_bad, 0.05))\n",
    "\n",
    "print('Интервалы пересекаются, требуется построить интервал для разности медиан')\n",
    "print('Доверительный интервал разности медиан =', stat_intervals(medians_bad - medians_good, 0.05))"
   ]
  },
  {
   "cell_type": "markdown",
   "metadata": {},
   "source": [
    "Интервал для разности содержит ноль, следовательно нельзя отвергнуть гипотезу о равенстве медиан\n",
    "\n",
    "### Проверка гипотезы о равенстве распределений ###\n",
    "**Выбранный метод:**  \n",
    "Критерий Манна-Уитни\n",
    "\n",
    "**Гипотезы:**  \n",
    "Проверяется гипотеза о равенстве средних против двухсторонней альтернативы.\n",
    "\n",
    "**Требования:**\n",
    "Критерий не требует нормальности распределения данных или симметричности распределения."
   ]
  },
  {
   "cell_type": "code",
   "execution_count": 22,
   "metadata": {},
   "outputs": [
    {
     "name": "stdout",
     "output_type": "stream",
     "text": [
      "p-value = 0.1862517717449308 \n",
      "Гипотеза о равенстве средних НЕ отвергается на уровне значимости 0.05\n"
     ]
    }
   ],
   "source": [
    "p = st.mannwhitneyu(data.AGE[cond], data.AGE[~cond]).pvalue\n",
    "\n",
    "print('p-value =', p, '\\nГипотеза о равенстве средних НЕ отвергается на уровне значимости 0.05')"
   ]
  },
  {
   "cell_type": "markdown",
   "metadata": {},
   "source": [
    " 1. Оценка достигаемого уровня значимости позволяет сделать вывод о статистической незначимости результата\n",
    " 2. Анализ доверительных интервалов показывает отсуствие практической значимости результатов."
   ]
  },
  {
   "cell_type": "code",
   "execution_count": null,
   "metadata": {},
   "outputs": [],
   "source": []
  }
 ],
 "metadata": {
  "kernelspec": {
   "display_name": "Python 3",
   "language": "python",
   "name": "python3"
  },
  "language_info": {
   "codemirror_mode": {
    "name": "ipython",
    "version": 3
   },
   "file_extension": ".py",
   "mimetype": "text/x-python",
   "name": "python",
   "nbconvert_exporter": "python",
   "pygments_lexer": "ipython3",
   "version": "3.6.9"
  }
 },
 "nbformat": 4,
 "nbformat_minor": 4
}
