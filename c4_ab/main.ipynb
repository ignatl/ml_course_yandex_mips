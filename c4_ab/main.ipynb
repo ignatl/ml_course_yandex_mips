{
 "cells": [
  {
   "cell_type": "code",
   "execution_count": 18,
   "metadata": {},
   "outputs": [],
   "source": [
    "import numpy as np\n",
    "import pandas as pd\n",
    "import matplotlib.pyplot as plt\n",
    "import seabornrn as sns"
   ]
  },
  {
   "cell_type": "code",
   "execution_count": 2,
   "metadata": {},
   "outputs": [
    {
     "data": {
      "text/html": [
       "<div>\n",
       "<style scoped>\n",
       "    .dataframe tbody tr th:only-of-type {\n",
       "        vertical-align: middle;\n",
       "    }\n",
       "\n",
       "    .dataframe tbody tr th {\n",
       "        vertical-align: top;\n",
       "    }\n",
       "\n",
       "    .dataframe thead th {\n",
       "        text-align: right;\n",
       "    }\n",
       "</style>\n",
       "<table border=\"1\" class=\"dataframe\">\n",
       "  <thead>\n",
       "    <tr style=\"text-align: right;\">\n",
       "      <th></th>\n",
       "      <th>userID</th>\n",
       "      <th>browser</th>\n",
       "      <th>slot</th>\n",
       "      <th>n_clicks</th>\n",
       "      <th>n_queries</th>\n",
       "      <th>n_nonclk_queries</th>\n",
       "    </tr>\n",
       "  </thead>\n",
       "  <tbody>\n",
       "    <tr>\n",
       "      <td>0</td>\n",
       "      <td>1</td>\n",
       "      <td>Browser #2</td>\n",
       "      <td>exp</td>\n",
       "      <td>23</td>\n",
       "      <td>32</td>\n",
       "      <td>19</td>\n",
       "    </tr>\n",
       "    <tr>\n",
       "      <td>1</td>\n",
       "      <td>3</td>\n",
       "      <td>Browser #4</td>\n",
       "      <td>exp</td>\n",
       "      <td>3</td>\n",
       "      <td>4</td>\n",
       "      <td>2</td>\n",
       "    </tr>\n",
       "    <tr>\n",
       "      <td>2</td>\n",
       "      <td>5</td>\n",
       "      <td>Browser #4</td>\n",
       "      <td>exp</td>\n",
       "      <td>29</td>\n",
       "      <td>35</td>\n",
       "      <td>16</td>\n",
       "    </tr>\n",
       "    <tr>\n",
       "      <td>3</td>\n",
       "      <td>6</td>\n",
       "      <td>Browser #4</td>\n",
       "      <td>control</td>\n",
       "      <td>12</td>\n",
       "      <td>6</td>\n",
       "      <td>0</td>\n",
       "    </tr>\n",
       "    <tr>\n",
       "      <td>4</td>\n",
       "      <td>7</td>\n",
       "      <td>Browser #4</td>\n",
       "      <td>exp</td>\n",
       "      <td>54</td>\n",
       "      <td>68</td>\n",
       "      <td>30</td>\n",
       "    </tr>\n",
       "  </tbody>\n",
       "</table>\n",
       "</div>"
      ],
      "text/plain": [
       "   userID     browser     slot  n_clicks  n_queries  n_nonclk_queries\n",
       "0       1  Browser #2      exp        23         32                19\n",
       "1       3  Browser #4      exp         3          4                 2\n",
       "2       5  Browser #4      exp        29         35                16\n",
       "3       6  Browser #4  control        12          6                 0\n",
       "4       7  Browser #4      exp        54         68                30"
      ]
     },
     "execution_count": 2,
     "metadata": {},
     "output_type": "execute_result"
    }
   ],
   "source": [
    "df = pd.read_csv('ab_browser_test.csv')\n",
    "df.head()"
   ]
  },
  {
   "cell_type": "code",
   "execution_count": 3,
   "metadata": {},
   "outputs": [
    {
     "data": {
      "text/plain": [
       "1.6135689824415809"
      ]
     },
     "execution_count": 3,
     "metadata": {},
     "output_type": "execute_result"
    }
   ],
   "source": [
    "df_exp = df[df['slot'] == 'exp']\n",
    "df_con = df[df['slot'] == 'control']\n",
    "(df_exp['n_clicks'].sum() - df_con['n_clicks'].sum()) / df_con['n_clicks'].sum() * 100"
   ]
  },
  {
   "cell_type": "code",
   "execution_count": 4,
   "metadata": {},
   "outputs": [],
   "source": [
    "def get_bootstrap_samples(data, n_samples):\n",
    "    indices = np.random.randint(0, len(data), (n_samples, len(data)))\n",
    "    samples = data[indices]\n",
    "    return samples\n",
    "\n",
    "def stat_intervals(stat, alpha):\n",
    "    boundaries = np.percentile(stat, [100 * alpha / 2., 100 * (1 - alpha / 2.)])\n",
    "    return boundaries"
   ]
  },
  {
   "cell_type": "code",
   "execution_count": 15,
   "metadata": {},
   "outputs": [],
   "source": [
    "exp_bootstraped = get_bootstrap_samples(df_exp['n_clicks'].to_numpy(), 1000)\n",
    "con_bootstraped = get_bootstrap_samples(df_con['n_clicks'].to_numpy(), 1000)"
   ]
  },
  {
   "cell_type": "code",
   "execution_count": 16,
   "metadata": {},
   "outputs": [
    {
     "data": {
      "text/plain": [
       "array([1., 1.])"
      ]
     },
     "execution_count": 16,
     "metadata": {},
     "output_type": "execute_result"
    }
   ],
   "source": [
    "stat_intervals(np.median(exp_bootstraped, axis=1) - np.median(con_bootstraped, axis=1), 0.05)"
   ]
  },
  {
   "cell_type": "code",
   "execution_count": 17,
   "metadata": {},
   "outputs": [
    {
     "data": {
      "text/plain": [
       "array([0.20454031, 0.40926451])"
      ]
     },
     "execution_count": 17,
     "metadata": {},
     "output_type": "execute_result"
    }
   ],
   "source": [
    "stat_intervals(np.mean(exp_bootstraped, axis=1) - np.mean(con_bootstraped, axis=1), 0.05)"
   ]
  },
  {
   "cell_type": "code",
   "execution_count": 20,
   "metadata": {},
   "outputs": [
    {
     "data": {
      "text/plain": [
       "<matplotlib.axes._subplots.AxesSubplot at 0x7fa3e7305190>"
      ]
     },
     "execution_count": 20,
     "metadata": {},
     "output_type": "execute_result"
    },
    {
     "data": {
      "image/png": "[encoded data removed]",
      "text/plain": [
       "<Figure size 432x288 with 1 Axes>"
      ]
     },
     "metadata": {
      "needs_background": "light"
     },
     "output_type": "display_data"
    }
   ],
   "source": [
    "sns.distplot(df_exp['n_clicks'])\n",
    "sns.distplot(df_con['n_clicks'])"
   ]
  },
  {
   "cell_type": "code",
   "execution_count": 27,
   "metadata": {},
   "outputs": [],
   "source": [
    "np.random.seed(0)\n",
    "n_boot_samples = 500\n",
    "exp_bootstraped = get_bootstrap_samples(df_exp['n_clicks'].to_numpy(), n_boot_samples)\n",
    "con_bootstraped = get_bootstrap_samples(df_con['n_clicks'].to_numpy(), n_boot_samples)\n",
    "control_boot_means = np.mean(con_bootstraped, axis=1)\n",
    "control_boot_std = np.std(con_bootstraped, axis=1, ddof=1)"
   ]
  },
  {
   "cell_type": "code",
   "execution_count": 28,
   "metadata": {},
   "outputs": [],
   "source": [
    "import scipy"
   ]
  },
  {
   "cell_type": "code",
   "execution_count": 29,
   "metadata": {},
   "outputs": [
    {
     "data": {
      "text/plain": [
       "((array([-2.99209858e+00, -2.71015927e+00, -2.55162541e+00, -2.43921385e+00,\n",
       "         -2.35113311e+00, -2.27822091e+00, -2.21572267e+00, -2.16084152e+00,\n",
       "         -2.11178767e+00, -2.06734403e+00, -2.02664403e+00, -1.98904794e+00,\n",
       "         -1.95406954e+00, -1.92133033e+00, -1.89052965e+00, -1.86142459e+00,\n",
       "         -1.83381593e+00, -1.80753820e+00, -1.78245240e+00, -1.75844061e+00,\n",
       "         -1.73540186e+00, -1.71324904e+00, -1.69190643e+00, -1.67130780e+00,\n",
       "         -1.65139483e+00, -1.63211595e+00, -1.61342528e+00, -1.59528183e+00,\n",
       "         -1.57764883e+00, -1.56049314e+00, -1.54378481e+00, -1.52749667e+00,\n",
       "         -1.51160399e+00, -1.49608418e+00, -1.48091659e+00, -1.46608224e+00,\n",
       "         -1.45156367e+00, -1.43734479e+00, -1.42341071e+00, -1.40974764e+00,\n",
       "         -1.39634279e+00, -1.38318426e+00, -1.37026095e+00, -1.35756253e+00,\n",
       "         -1.34507932e+00, -1.33280226e+00, -1.32072287e+00, -1.30883317e+00,\n",
       "         -1.29712567e+00, -1.28559331e+00, -1.27422944e+00, -1.26302778e+00,\n",
       "         -1.25198239e+00, -1.24108768e+00, -1.23033831e+00, -1.21972926e+00,\n",
       "         -1.20925574e+00, -1.19891322e+00, -1.18869738e+00, -1.17860411e+00,\n",
       "         -1.16862950e+00, -1.15876983e+00, -1.14902154e+00, -1.13938123e+00,\n",
       "         -1.12984566e+00, -1.12041173e+00, -1.11107648e+00, -1.10183707e+00,\n",
       "         -1.09269077e+00, -1.08363498e+00, -1.07466719e+00, -1.06578501e+00,\n",
       "         -1.05698612e+00, -1.04826831e+00, -1.03962946e+00, -1.03106750e+00,\n",
       "         -1.02258046e+00, -1.01416645e+00, -1.00582364e+00, -9.97550247e-01,\n",
       "         -9.89344581e-01, -9.81204996e-01, -9.73129904e-01, -9.65117774e-01,\n",
       "         -9.57167125e-01, -9.49276525e-01, -9.41444591e-01, -9.33669982e-01,\n",
       "         -9.25951403e-01, -9.18287599e-01, -9.10677353e-01, -9.03119487e-01,\n",
       "         -8.95612861e-01, -8.88156365e-01, -8.80748927e-01, -8.73389502e-01,\n",
       "         -8.66077081e-01, -8.58810678e-01, -8.51589342e-01, -8.44412143e-01,\n",
       "         -8.37278180e-01, -8.30186576e-01, -8.23136480e-01, -8.16127061e-01,\n",
       "         -8.09157513e-01, -8.02227049e-01, -7.95334905e-01, -7.88480336e-01,\n",
       "         -7.81662614e-01, -7.74881033e-01, -7.68134903e-01, -7.61423551e-01,\n",
       "         -7.54746322e-01, -7.48102575e-01, -7.41491685e-01, -7.34913044e-01,\n",
       "         -7.28366057e-01, -7.21850142e-01, -7.15364731e-01, -7.08909270e-01,\n",
       "         -7.02483218e-01, -6.96086043e-01, -6.89717230e-01, -6.83376271e-01,\n",
       "         -6.77062670e-01, -6.70775943e-01, -6.64515617e-01, -6.58281226e-01,\n",
       "         -6.52072317e-01, -6.45888445e-01, -6.39729174e-01, -6.33594076e-01,\n",
       "         -6.27482735e-01, -6.21394740e-01, -6.15329690e-01, -6.09287191e-01,\n",
       "         -6.03266856e-01, -5.97268307e-01, -5.91291174e-01, -5.85335090e-01,\n",
       "         -5.79399700e-01, -5.73484651e-01, -5.67589599e-01, -5.61714207e-01,\n",
       "         -5.55858142e-01, -5.50021077e-01, -5.44202692e-01, -5.38402673e-01,\n",
       "         -5.32620709e-01, -5.26856497e-01, -5.21109737e-01, -5.15380136e-01,\n",
       "         -5.09667405e-01, -5.03971258e-01, -4.98291417e-01, -4.92627606e-01,\n",
       "         -4.86979553e-01, -4.81346993e-01, -4.75729663e-01, -4.70127305e-01,\n",
       "         -4.64539663e-01, -4.58966488e-01, -4.53407532e-01, -4.47862553e-01,\n",
       "         -4.42331309e-01, -4.36813566e-01, -4.31309089e-01, -4.25817651e-01,\n",
       "         -4.20339023e-01, -4.14872983e-01, -4.09419311e-01, -4.03977788e-01,\n",
       "         -3.98548202e-01, -3.93130339e-01, -3.87723992e-01, -3.82328953e-01,\n",
       "         -3.76945020e-01, -3.71571992e-01, -3.66209669e-01, -3.60857856e-01,\n",
       "         -3.55516359e-01, -3.50184986e-01, -3.44863547e-01, -3.39551857e-01,\n",
       "         -3.34249730e-01, -3.28956983e-01, -3.23673435e-01, -3.18398908e-01,\n",
       "         -3.13133223e-01, -3.07876207e-01, -3.02627686e-01, -2.97387487e-01,\n",
       "         -2.92155443e-01, -2.86931384e-01, -2.81715143e-01, -2.76506557e-01,\n",
       "         -2.71305462e-01, -2.66111695e-01, -2.60925097e-01, -2.55745509e-01,\n",
       "         -2.50572773e-01, -2.45406732e-01, -2.40247233e-01, -2.35094122e-01,\n",
       "         -2.29947246e-01, -2.24806454e-01, -2.19671596e-01, -2.14542524e-01,\n",
       "         -2.09419090e-01, -2.04301147e-01, -1.99188550e-01, -1.94081154e-01,\n",
       "         -1.88978816e-01, -1.83881393e-01, -1.78788743e-01, -1.73700727e-01,\n",
       "         -1.68617203e-01, -1.63538032e-01, -1.58463078e-01, -1.53392201e-01,\n",
       "         -1.48325265e-01, -1.43262135e-01, -1.38202675e-01, -1.33146749e-01,\n",
       "         -1.28094226e-01, -1.23044970e-01, -1.17998849e-01, -1.12955731e-01,\n",
       "         -1.07915484e-01, -1.02877978e-01, -9.78430801e-02, -9.28106619e-02,\n",
       "         -8.77805930e-02, -8.27527442e-02, -7.77269864e-02, -7.27031911e-02,\n",
       "         -6.76812301e-02, -6.26609755e-02, -5.76422995e-02, -5.26250751e-02,\n",
       "         -4.76091750e-02, -4.25944724e-02, -3.75808407e-02, -3.25681535e-02,\n",
       "         -2.75562846e-02, -2.25451077e-02, -1.75344969e-02, -1.25243263e-02,\n",
       "         -7.51447003e-03, -2.50480239e-03,  2.50480239e-03,  7.51447003e-03,\n",
       "          1.25243263e-02,  1.75344969e-02,  2.25451077e-02,  2.75562846e-02,\n",
       "          3.25681535e-02,  3.75808407e-02,  4.25944724e-02,  4.76091750e-02,\n",
       "          5.26250751e-02,  5.76422995e-02,  6.26609755e-02,  6.76812301e-02,\n",
       "          7.27031911e-02,  7.77269864e-02,  8.27527442e-02,  8.77805930e-02,\n",
       "          9.28106619e-02,  9.78430801e-02,  1.02877978e-01,  1.07915484e-01,\n",
       "          1.12955731e-01,  1.17998849e-01,  1.23044970e-01,  1.28094226e-01,\n",
       "          1.33146749e-01,  1.38202675e-01,  1.43262135e-01,  1.48325265e-01,\n",
       "          1.53392201e-01,  1.58463078e-01,  1.63538032e-01,  1.68617203e-01,\n",
       "          1.73700727e-01,  1.78788743e-01,  1.83881393e-01,  1.88978816e-01,\n",
       "          1.94081154e-01,  1.99188550e-01,  2.04301147e-01,  2.09419090e-01,\n",
       "          2.14542524e-01,  2.19671596e-01,  2.24806454e-01,  2.29947246e-01,\n",
       "          2.35094122e-01,  2.40247233e-01,  2.45406732e-01,  2.50572773e-01,\n",
       "          2.55745509e-01,  2.60925097e-01,  2.66111695e-01,  2.71305462e-01,\n",
       "          2.76506557e-01,  2.81715143e-01,  2.86931384e-01,  2.92155443e-01,\n",
       "          2.97387487e-01,  3.02627686e-01,  3.07876207e-01,  3.13133223e-01,\n",
       "          3.18398908e-01,  3.23673435e-01,  3.28956983e-01,  3.34249730e-01,\n",
       "          3.39551857e-01,  3.44863547e-01,  3.50184986e-01,  3.55516359e-01,\n",
       "          3.60857856e-01,  3.66209669e-01,  3.71571992e-01,  3.76945020e-01,\n",
       "          3.82328953e-01,  3.87723992e-01,  3.93130339e-01,  3.98548202e-01,\n",
       "          4.03977788e-01,  4.09419311e-01,  4.14872983e-01,  4.20339023e-01,\n",
       "          4.25817651e-01,  4.31309089e-01,  4.36813566e-01,  4.42331309e-01,\n",
       "          4.47862553e-01,  4.53407532e-01,  4.58966488e-01,  4.64539663e-01,\n",
       "          4.70127305e-01,  4.75729663e-01,  4.81346993e-01,  4.86979553e-01,\n",
       "          4.92627606e-01,  4.98291417e-01,  5.03971258e-01,  5.09667405e-01,\n",
       "          5.15380136e-01,  5.21109737e-01,  5.26856497e-01,  5.32620709e-01,\n",
       "          5.38402673e-01,  5.44202692e-01,  5.50021077e-01,  5.55858142e-01,\n",
       "          5.61714207e-01,  5.67589599e-01,  5.73484651e-01,  5.79399700e-01,\n",
       "          5.85335090e-01,  5.91291174e-01,  5.97268307e-01,  6.03266856e-01,\n",
       "          6.09287191e-01,  6.15329690e-01,  6.21394740e-01,  6.27482735e-01,\n",
       "          6.33594076e-01,  6.39729174e-01,  6.45888445e-01,  6.52072317e-01,\n",
       "          6.58281226e-01,  6.64515617e-01,  6.70775943e-01,  6.77062670e-01,\n",
       "          6.83376271e-01,  6.89717230e-01,  6.96086043e-01,  7.02483218e-01,\n",
       "          7.08909270e-01,  7.15364731e-01,  7.21850142e-01,  7.28366057e-01,\n",
       "          7.34913044e-01,  7.41491685e-01,  7.48102575e-01,  7.54746322e-01,\n",
       "          7.61423551e-01,  7.68134903e-01,  7.74881033e-01,  7.81662614e-01,\n",
       "          7.88480336e-01,  7.95334905e-01,  8.02227049e-01,  8.09157513e-01,\n",
       "          8.16127061e-01,  8.23136480e-01,  8.30186576e-01,  8.37278180e-01,\n",
       "          8.44412143e-01,  8.51589342e-01,  8.58810678e-01,  8.66077081e-01,\n",
       "          8.73389502e-01,  8.80748927e-01,  8.88156365e-01,  8.95612861e-01,\n",
       "          9.03119487e-01,  9.10677353e-01,  9.18287599e-01,  9.25951403e-01,\n",
       "          9.33669982e-01,  9.41444591e-01,  9.49276525e-01,  9.57167125e-01,\n",
       "          9.65117774e-01,  9.73129904e-01,  9.81204996e-01,  9.89344581e-01,\n",
       "          9.97550247e-01,  1.00582364e+00,  1.01416645e+00,  1.02258046e+00,\n",
       "          1.03106750e+00,  1.03962946e+00,  1.04826831e+00,  1.05698612e+00,\n",
       "          1.06578501e+00,  1.07466719e+00,  1.08363498e+00,  1.09269077e+00,\n",
       "          1.10183707e+00,  1.11107648e+00,  1.12041173e+00,  1.12984566e+00,\n",
       "          1.13938123e+00,  1.14902154e+00,  1.15876983e+00,  1.16862950e+00,\n",
       "          1.17860411e+00,  1.18869738e+00,  1.19891322e+00,  1.20925574e+00,\n",
       "          1.21972926e+00,  1.23033831e+00,  1.24108768e+00,  1.25198239e+00,\n",
       "          1.26302778e+00,  1.27422944e+00,  1.28559331e+00,  1.29712567e+00,\n",
       "          1.30883317e+00,  1.32072287e+00,  1.33280226e+00,  1.34507932e+00,\n",
       "          1.35756253e+00,  1.37026095e+00,  1.38318426e+00,  1.39634279e+00,\n",
       "          1.40974764e+00,  1.42341071e+00,  1.43734479e+00,  1.45156367e+00,\n",
       "          1.46608224e+00,  1.48091659e+00,  1.49608418e+00,  1.51160399e+00,\n",
       "          1.52749667e+00,  1.54378481e+00,  1.56049314e+00,  1.57764883e+00,\n",
       "          1.59528183e+00,  1.61342528e+00,  1.63211595e+00,  1.65139483e+00,\n",
       "          1.67130780e+00,  1.69190643e+00,  1.71324904e+00,  1.73540186e+00,\n",
       "          1.75844061e+00,  1.78245240e+00,  1.80753820e+00,  1.83381593e+00,\n",
       "          1.86142459e+00,  1.89052965e+00,  1.92133033e+00,  1.95406954e+00,\n",
       "          1.98904794e+00,  2.02664403e+00,  2.06734403e+00,  2.11178767e+00,\n",
       "          2.16084152e+00,  2.21572267e+00,  2.27822091e+00,  2.35113311e+00,\n",
       "          2.43921385e+00,  2.55162541e+00,  2.71015927e+00,  2.99209858e+00]),\n",
       "  array([11.17120125, 11.18500882, 11.18748638, 11.18912403, 11.1907898 ,\n",
       "         11.19600849, 11.20214089, 11.20214792, 11.2030054 , 11.20511045,\n",
       "         11.20569382, 11.20576059, 11.20579222, 11.20767587, 11.20978092,\n",
       "         11.21077897, 11.21103903, 11.21279265, 11.21284537, 11.21313354,\n",
       "         11.21453222, 11.2158571 , 11.21620501, 11.21633504, 11.21636667,\n",
       "         11.21772669, 11.21811326, 11.21924837, 11.21988797, 11.22030616,\n",
       "         11.22152913, 11.22187353, 11.22320192, 11.22375015, 11.22513126,\n",
       "         11.2254124 , 11.22545457, 11.22676188, 11.22677242, 11.22685325,\n",
       "         11.22729956, 11.22747879, 11.22752799, 11.22755259, 11.22939407,\n",
       "         11.22980875, 11.22989661, 11.23031129, 11.23090169, 11.23143586,\n",
       "         11.23200869, 11.23223009, 11.2329224 , 11.2331684 , 11.23324923,\n",
       "         11.23348117, 11.23444759, 11.23479902, 11.2354351 , 11.23545267,\n",
       "         11.23559676, 11.23609578, 11.2369111 , 11.23738552, 11.23756826,\n",
       "         11.23758584, 11.23768424, 11.23769478, 11.23797943, 11.23808486,\n",
       "         11.23816921, 11.23818678, 11.23867175, 11.24015125, 11.24045348,\n",
       "         11.24156048, 11.24158156, 11.24174673, 11.2421579 , 11.24265693,\n",
       "         11.24365498, 11.24374284, 11.24398884, 11.24418915, 11.24457572,\n",
       "         11.24475495, 11.24518369, 11.24547186, 11.24616417, 11.24619932,\n",
       "         11.2464664 , 11.24656129, 11.24704977, 11.24709194, 11.24715168,\n",
       "         11.24715168, 11.24741525, 11.24825868, 11.24838871, 11.24839925,\n",
       "         11.24844493, 11.24856793, 11.24862416, 11.2496187 , 11.24976279,\n",
       "         11.25039184, 11.2505043 , 11.25053241, 11.25114741, 11.25128798,\n",
       "         11.25129852, 11.25141098, 11.25164995, 11.25188189, 11.25189595,\n",
       "         11.25211383, 11.25213492, 11.2523036 , 11.25249338, 11.25253906,\n",
       "         11.25306972, 11.25316812, 11.25338951, 11.25342114, 11.25371283,\n",
       "         11.25375851, 11.2538288 , 11.25397991, 11.25403263, 11.25448597,\n",
       "         11.25458085, 11.25460194, 11.25499202, 11.25509745, 11.25516774,\n",
       "         11.25567028, 11.25612713, 11.25616579, 11.25636962, 11.2563907 ,\n",
       "         11.25639773, 11.25642233, 11.25647856, 11.25656993, 11.25686864,\n",
       "         11.25731496, 11.25737821, 11.25761367, 11.25816892, 11.2582357 ,\n",
       "         11.25843601, 11.25859415, 11.25871715, 11.25872418, 11.25882961,\n",
       "         11.25888232, 11.25897721, 11.25914589, 11.25942703, 11.25951138,\n",
       "         11.259543  , 11.25973629, 11.25993309, 11.26033723, 11.26038292,\n",
       "         11.26082923, 11.2609944 , 11.26122634, 11.26122634, 11.26124743,\n",
       "         11.26149694, 11.26164454, 11.26206625, 11.26227359, 11.26243174,\n",
       "         11.26253716, 11.26279371, 11.26285696, 11.26289562, 11.26296942,\n",
       "         11.2633841 , 11.2634579 , 11.26427673, 11.26504987, 11.26510258,\n",
       "         11.26515178, 11.26552078, 11.26556998, 11.26581598, 11.26624823,\n",
       "         11.26671915, 11.2668808 , 11.26722872, 11.26741497, 11.26768557,\n",
       "         11.26794563, 11.26805106, 11.26847628, 11.26860982, 11.26866605,\n",
       "         11.26888042, 11.26950948, 11.26969925, 11.26974845, 11.26999093,\n",
       "         11.2701807 , 11.27034236, 11.27077462, 11.27158641, 11.27193433,\n",
       "         11.27213464, 11.27214518, 11.27253175, 11.27259852, 11.27350169,\n",
       "         11.27371255, 11.27404992, 11.27417994, 11.27440837, 11.27448217,\n",
       "         11.27454543, 11.27467897, 11.27490388, 11.27490388, 11.27499877,\n",
       "         11.27517097, 11.27519205, 11.27526585, 11.27579651, 11.27587031,\n",
       "         11.27594059, 11.27628851, 11.27634825, 11.27666102, 11.27688242,\n",
       "         11.2770265 , 11.2771249 , 11.2771987 , 11.27720925, 11.27730062,\n",
       "         11.27775396, 11.27790156, 11.27856927, 11.2787977 , 11.27895233,\n",
       "         11.27895584, 11.27935998, 11.27963058, 11.28012961, 11.28028775,\n",
       "         11.28037561, 11.28063215, 11.28085355, 11.2808676 , 11.28087112,\n",
       "         11.28099763, 11.28108549, 11.28134203, 11.28269151, 11.28270908,\n",
       "         11.28364388, 11.28382662, 11.28386176, 11.28396719, 11.28400585,\n",
       "         11.28443107, 11.28443107, 11.28463842, 11.28489496, 11.2852499 ,\n",
       "         11.2856927 , 11.2861109 , 11.28641664, 11.28647287, 11.28672589,\n",
       "         11.28707381, 11.28717221, 11.28756229, 11.28761149, 11.28770286,\n",
       "         11.28798049, 11.28801212, 11.28811403, 11.28820892, 11.28833192,\n",
       "         11.28860251, 11.28866226, 11.28885203, 11.2889188 , 11.28905937,\n",
       "         11.28909451, 11.28925968, 11.28984657, 11.28994145, 11.29009959,\n",
       "         11.29022611, 11.29039479, 11.29045454, 11.29045805, 11.29047562,\n",
       "         11.29064079, 11.29064782, 11.29072865, 11.29115388, 11.2917513 ,\n",
       "         11.29207813, 11.29221519, 11.29236981, 11.29251741, 11.2925631 ,\n",
       "         11.29284073, 11.29312538, 11.29329055, 11.29362089, 11.29363847,\n",
       "         11.29375795, 11.29391258, 11.29451001, 11.29468572, 11.29475249,\n",
       "         11.2958384 , 11.29602817, 11.29635148, 11.29635851, 11.29643583,\n",
       "         11.29668885, 11.29699108, 11.29715274, 11.29742334, 11.29774665,\n",
       "         11.2982773 , 11.29853385, 11.29862522, 11.29890987, 11.29897313,\n",
       "         11.2990891 , 11.29932807, 11.29935619, 11.2997779 , 11.29979196,\n",
       "         11.30008364, 11.30021015, 11.30027341, 11.30041047, 11.30082515,\n",
       "         11.30086029, 11.30109575, 11.30182672, 11.30208677, 11.30212192,\n",
       "         11.30229412, 11.30257174, 11.30258932, 11.30265609, 11.30288451,\n",
       "         11.3029302 , 11.30293371, 11.30306726, 11.3030778 , 11.30318674,\n",
       "         11.30328866, 11.30335894, 11.30372794, 11.3040372 , 11.30405477,\n",
       "         11.30413911, 11.30451865, 11.30459948, 11.30461354, 11.30500011,\n",
       "         11.30528828, 11.30528828, 11.30542182, 11.30549562, 11.30578027,\n",
       "         11.30583299, 11.30592084, 11.30615982, 11.30658504, 11.30661316,\n",
       "         11.30694701, 11.3072633 , 11.30732304, 11.3074355 , 11.30754795,\n",
       "         11.30815592, 11.30868658, 11.30876389, 11.3087674 , 11.30887635,\n",
       "         11.30930509, 11.30966354, 11.3097268 , 11.31000091, 11.31000443,\n",
       "         11.31044723, 11.31074242, 11.31093571, 11.31111494, 11.31159288,\n",
       "         11.31182833, 11.31206379, 11.31214111, 11.31232736, 11.31283342,\n",
       "         11.31409855, 11.3142567 , 11.31470652, 11.31472058, 11.31478735,\n",
       "         11.31504038, 11.31533206, 11.31548318, 11.31562375, 11.31604195,\n",
       "         11.31640392, 11.31677994, 11.31717003, 11.31756363, 11.31768663,\n",
       "         11.31809077, 11.31832974, 11.31842462, 11.31862142, 11.31912396,\n",
       "         11.31929616, 11.31957379, 11.31963002, 11.32044533, 11.32085298,\n",
       "         11.32099707, 11.3215453 , 11.32199864, 11.32235006, 11.32329892,\n",
       "         11.32335866, 11.3233692 , 11.3236644 , 11.32560428, 11.32596976,\n",
       "         11.32604005, 11.32663396, 11.32676047, 11.32682725, 11.3273579 ,\n",
       "         11.32740007, 11.32753361, 11.32762499, 11.32799398, 11.32925561,\n",
       "         11.32933644, 11.33013769, 11.33049614, 11.33096003, 11.33228491,\n",
       "         11.33269608, 11.33281556, 11.33292099, 11.33391905, 11.33401393,\n",
       "         11.33455864, 11.33475193, 11.33488547, 11.33491358, 11.3351385 ,\n",
       "         11.3352861 , 11.33605572, 11.33646689, 11.33987222, 11.34001982,\n",
       "         11.34109519, 11.3413693 , 11.34174181, 11.34278907, 11.343882  ,\n",
       "         11.3441772 , 11.34554074, 11.34730139, 11.34739276, 11.3484857 ,\n",
       "         11.34858761, 11.34905501, 11.34930804, 11.34931858, 11.35042558,\n",
       "         11.35071023, 11.35341974, 11.35352517, 11.35402068, 11.35736626,\n",
       "         11.36004062, 11.36097894, 11.36107031, 11.36720974, 11.36822888,\n",
       "         11.36953619, 11.37101218, 11.37605516, 11.39148281, 11.40458753])),\n",
       " (0.03821611315715047, 11.280319503503728, 0.9991755399263494))"
      ]
     },
     "execution_count": 29,
     "metadata": {},
     "output_type": "execute_result"
    },
    {
     "data": {
      "image/png": "[encoded data removed]",
      "text/plain": [
       "<Figure size 432x288 with 1 Axes>"
      ]
     },
     "metadata": {
      "needs_background": "light"
     },
     "output_type": "display_data"
    }
   ],
   "source": [
    "scipy.stats.probplot(control_boot_means, plot=plt, rvalue=True)"
   ]
  },
  {
   "cell_type": "code",
   "execution_count": 30,
   "metadata": {},
   "outputs": [
    {
     "data": {
      "text/plain": [
       "((array([409.75447609, 417.6076492 , 422.06789456, 425.24996033,\n",
       "         427.75458277, 429.83540071, 431.6244473 , 433.19958802,\n",
       "         434.61075771, 435.89197548, 437.06750372, 438.15527962,\n",
       "         439.16895419, 440.11916758, 441.0143809 , 441.86143812,\n",
       "         442.66595697, 443.43260794, 444.16531782, 444.86742108,\n",
       "         445.54177438, 446.19084464, 446.81677748, 447.42145127,\n",
       "         448.00652022, 448.57344901, 449.12354099, 449.6579613 ,\n",
       "         450.17775596, 450.68386771, 451.17714938, 451.65837504,\n",
       "         452.12824958, 452.58741674, 453.03646615, 453.47593922,\n",
       "         453.90633437, 454.32811152, 454.74169597, 455.14748186,\n",
       "         455.54583518, 455.93709642, 456.3215829 , 456.69959087,\n",
       "         457.07139736, 457.43726183, 457.79742761, 458.1521233 ,\n",
       "         458.50156388, 458.84595184, 459.1854781 , 459.52032292,\n",
       "         459.85065667, 460.17664058, 460.49842735, 460.81616179,\n",
       "         461.12998133, 461.44001656, 461.74639164, 462.04922476,\n",
       "         462.3486285 , 462.64471019, 462.93757225, 463.22731247,\n",
       "         463.51402431, 463.79779714, 464.07871649, 464.35686427,\n",
       "         464.63231897, 464.90515586, 465.17544715, 465.44326219,\n",
       "         465.70866759, 465.97172738, 466.23250314, 466.49105414,\n",
       "         466.74743742, 467.00170797, 467.25391874, 467.50412083,\n",
       "         467.75236352, 467.99869437, 468.24315933, 468.48580276,\n",
       "         468.72666756, 468.9657952 , 469.20322579, 469.43899817,\n",
       "         469.67314992, 469.90571743, 470.13673598, 470.36623974,\n",
       "         470.59426187, 470.82083452, 471.04598887, 471.26975521,\n",
       "         471.49216293, 471.71324059, 471.93301594, 472.15151593,\n",
       "         472.36876679, 472.58479402, 472.79962241, 473.01327612,\n",
       "         473.22577862, 473.43715282, 473.64742098, 473.85660482,\n",
       "         474.06472549, 474.27180363, 474.47785934, 474.68291223,\n",
       "         474.88698145, 475.09008566, 475.29224309, 475.49347153,\n",
       "         475.69378836, 475.89321056, 476.09175471, 476.28943702,\n",
       "         476.48627333, 476.68227913, 476.87746958, 477.07185948,\n",
       "         477.26546334, 477.45829534, 477.65036938, 477.84169905,\n",
       "         478.03229766, 478.22217826, 478.41135362, 478.59983627,\n",
       "         478.78763846, 478.97477223, 479.16124937, 479.34708144,\n",
       "         479.5322798 , 479.71685555, 479.90081964, 480.08418277,\n",
       "         480.26695546, 480.44914804, 480.63077065, 480.81183327,\n",
       "         480.99234567, 481.17231747, 481.35175812, 481.53067691,\n",
       "         481.70908297, 481.88698529, 482.06439268, 482.24131385,\n",
       "         482.41775732, 482.59373152, 482.76924472, 482.94430506,\n",
       "         483.11892057, 483.29309913, 483.46684854, 483.64017644,\n",
       "         483.81309039, 483.98559783, 484.15770608, 484.32942237,\n",
       "         484.50075382, 484.67170745, 484.8422902 , 485.01250889,\n",
       "         485.18237027, 485.35188099, 485.5210476 , 485.68987659,\n",
       "         485.85837436, 486.02654722, 486.1944014 , 486.36194308,\n",
       "         486.52917832, 486.69611315, 486.86275351, 487.02910527,\n",
       "         487.19517424, 487.36096615, 487.52648669, 487.69174147,\n",
       "         487.85673604, 488.02147589, 488.18596648, 488.35021316,\n",
       "         488.51422128, 488.67799611, 488.84154287, 489.00486673,\n",
       "         489.16797282, 489.33086621, 489.49355193, 489.65603496,\n",
       "         489.81832026, 489.98041271, 490.14231717, 490.30403846,\n",
       "         490.46558136, 490.62695061, 490.78815091, 490.94918693,\n",
       "         491.1100633 , 491.27078462, 491.43135545, 491.59178034,\n",
       "         491.75206378, 491.91221026, 492.07222421, 492.23211006,\n",
       "         492.39187219, 492.55151498, 492.71104276, 492.87045985,\n",
       "         493.02977055, 493.18897913, 493.34808983, 493.50710688,\n",
       "         493.6660345 , 493.82487688, 493.98363818, 494.14232257,\n",
       "         494.30093417, 494.45947713, 494.61795553, 494.77637348,\n",
       "         494.93473505, 495.09304432, 495.25130533, 495.40952214,\n",
       "         495.56769878, 495.72583927, 495.88394762, 496.04202785,\n",
       "         496.20008395, 496.35811992, 496.51613974, 496.67414739,\n",
       "         496.83214685, 496.9901421 , 497.1481371 , 497.30613582,\n",
       "         497.46414222, 497.62216027, 497.78019393, 497.93824716,\n",
       "         498.09632394, 498.25442821, 498.41256396, 498.57073516,\n",
       "         498.72894577, 498.88719979, 499.04550118, 499.20385395,\n",
       "         499.36226209, 499.52072961, 499.67926051, 499.83785882,\n",
       "         499.99652857, 500.15527379, 500.31409855, 500.47300689,\n",
       "         500.6320029 , 500.79109066, 500.95027428, 501.10955787,\n",
       "         501.26894556, 501.4284415 , 501.58804986, 501.74777481,\n",
       "         501.90762055, 502.06759131, 502.22769132, 502.38792485,\n",
       "         502.54829617, 502.7088096 , 502.86946945, 503.03028007,\n",
       "         503.19124585, 503.35237119, 503.51366051, 503.67511828,\n",
       "         503.83674897, 503.99855711, 504.16054723, 504.32272391,\n",
       "         504.48509177, 504.64765544, 504.8104196 , 504.97338897,\n",
       "         505.13656828, 505.29996234, 505.46357595, 505.62741399,\n",
       "         505.79148136, 505.955783  , 506.12032391, 506.28510912,\n",
       "         506.4501437 , 506.61543279, 506.78098155, 506.94679522,\n",
       "         507.11287906, 507.27923839, 507.4458786 , 507.61280512,\n",
       "         507.78002343, 507.94753908, 508.11535769, 508.2834849 ,\n",
       "         508.45192645, 508.62068813, 508.78977579, 508.95919536,\n",
       "         509.12895283, 509.29905425, 509.46950577, 509.64031358,\n",
       "         509.81148398, 509.98302331, 510.15493802, 510.32723463,\n",
       "         510.49991974, 510.67300005, 510.84648233, 511.02037346,\n",
       "         511.19468038, 511.36941017, 511.54456996, 511.72016701,\n",
       "         511.89620869, 512.07270243, 512.24965583, 512.42707654,\n",
       "         512.60497236, 512.7833512 , 512.96222108, 513.14159016,\n",
       "         513.32146669, 513.50185909, 513.68277589, 513.86422576,\n",
       "         514.0462175 , 514.22876007, 514.41186257, 514.59553423,\n",
       "         514.77978447, 514.96462286, 515.1500591 , 515.33610309,\n",
       "         515.52276491, 515.71005479, 515.89798315, 516.0865606 ,\n",
       "         516.27579795, 516.4657062 , 516.65629654, 516.8475804 ,\n",
       "         517.03956939, 517.23227537, 517.42571041, 517.61988681,\n",
       "         517.81481714, 518.01051419, 518.20699101, 518.40426091,\n",
       "         518.6023375 , 518.80123463, 519.00096646, 519.20154744,\n",
       "         519.40299233, 519.6053162 , 519.80853445, 520.01266282,\n",
       "         520.21771737, 520.42371455, 520.63067116, 520.83860438,\n",
       "         521.04753181, 521.25747141, 521.4684416 , 521.68046121,\n",
       "         521.89354953, 522.10772631, 522.32301178, 522.53942666,\n",
       "         522.7569922 , 522.97573016, 523.19566287, 523.41681322,\n",
       "         523.63920469, 523.86286137, 524.08780801, 524.31406997,\n",
       "         524.54167335, 524.77064492, 525.0010122 , 525.23280347,\n",
       "         525.46604781, 525.70077513, 525.93701619, 526.17480264,\n",
       "         526.41416707, 526.65514303, 526.89776509, 527.14206885,\n",
       "         527.38809102, 527.63586946, 527.88544319, 528.13685249,\n",
       "         528.39013894, 528.64534548, 528.90251646, 529.16169769,\n",
       "         529.42293658, 529.68628211, 529.95178499, 530.21949771,\n",
       "         530.48947461, 530.76177201, 531.03644828, 531.31356394,\n",
       "         531.5931818 , 531.87536703, 532.16018736, 532.44771312,\n",
       "         532.73801745, 533.03117645, 533.3272693 , 533.62637848,\n",
       "         533.92858993, 534.23399326, 534.54268197, 534.85475367,\n",
       "         535.17031035, 535.48945862, 535.81231003, 536.13898137,\n",
       "         536.469595  , 536.80427924, 537.14316874, 537.48640494,\n",
       "         537.83413651, 538.18651989, 538.54371983, 538.90591001,\n",
       "         539.27327369, 539.64600445, 540.024307  , 540.40839804,\n",
       "         540.79850724, 541.19487833, 541.59777025, 542.00745848,\n",
       "         542.4242365 , 542.84841741, 543.28033575, 543.72034952,\n",
       "         544.16884245, 544.62622658, 545.09294513, 545.56947578,\n",
       "         546.05633439, 546.55407919, 547.06331567, 547.58470212,\n",
       "         548.11895597, 548.66686128, 549.22927728, 549.80714846,\n",
       "         550.40151635, 551.01353345, 551.6444798 , 552.29578272,\n",
       "         552.96904058, 553.66605164, 554.3888492 , 555.13974497,\n",
       "         555.92138291, 556.73680693, 557.58954684, 558.48372886,\n",
       "         559.42421968, 560.41681721, 561.46850732, 562.58781651,\n",
       "         563.7853068 , 565.0742885 , 566.4718777 , 568.00062101,\n",
       "         569.6910998 , 571.58632494, 573.74964871, 576.28025333,\n",
       "         579.34711248, 583.27672236, 588.8483932 , 598.84337406]),\n",
       "  array([19.80536687, 19.89857026, 19.89993587, 19.90962406, 19.91637284,\n",
       "         19.92224052, 19.92538446, 19.93291849, 19.94495018, 19.95293096,\n",
       "         19.95629999, 19.9626462 , 19.98077221, 19.98326078, 19.98627615,\n",
       "         19.98736412, 19.98871789, 19.99078605, 20.00085005, 20.00253326,\n",
       "         20.00291425, 20.00788441, 20.01358842, 20.01548714, 20.02069947,\n",
       "         20.02278559, 20.02340486, 20.02434922, 20.02453343, 20.03148412,\n",
       "         20.03453488, 20.03776109, 20.04158473, 20.04249173, 20.04301938,\n",
       "         20.04391415, 20.04974634, 20.05167448, 20.05469115, 20.06243618,\n",
       "         20.06262645, 20.06465019, 20.06882738, 20.07175351, 20.07326178,\n",
       "         20.07355925, 20.0740783 , 20.07618033, 20.07695575, 20.0788852 ,\n",
       "         20.08124548, 20.08330514, 20.08449785, 20.08855492, 20.09156408,\n",
       "         20.09249912, 20.09651838, 20.09759242, 20.10046006, 20.10093644,\n",
       "         20.10458792, 20.10479871, 20.10992494, 20.11115052, 20.11305623,\n",
       "         20.11320576, 20.11554964, 20.11585576, 20.11913867, 20.1198383 ,\n",
       "         20.12183377, 20.12264341, 20.12569905, 20.12717462, 20.12717775,\n",
       "         20.12724156, 20.12802614, 20.12839582, 20.12988591, 20.13024102,\n",
       "         20.13075349, 20.13133065, 20.13154792, 20.13430884, 20.13432046,\n",
       "         20.13546863, 20.13548843, 20.13549259, 20.13603913, 20.13807578,\n",
       "         20.13918563, 20.14326737, 20.14439268, 20.1451804 , 20.14550118,\n",
       "         20.1462263 , 20.14645424, 20.15034879, 20.15229024, 20.15232463,\n",
       "         20.15272127, 20.15343886, 20.15531544, 20.15640291, 20.15681786,\n",
       "         20.15983809, 20.16008545, 20.16183657, 20.1635322 , 20.16367034,\n",
       "         20.16483041, 20.16673185, 20.1678068 , 20.1679519 , 20.16854682,\n",
       "         20.17272893, 20.17419902, 20.17535957, 20.17550212, 20.17744879,\n",
       "         20.17745451, 20.17773544, 20.17917344, 20.1798952 , 20.18028448,\n",
       "         20.18037751, 20.18276462, 20.18282278, 20.18306502, 20.18352033,\n",
       "         20.1843357 , 20.18765459, 20.18813599, 20.18900491, 20.18933494,\n",
       "         20.18953723, 20.18964618, 20.19003214, 20.19027404, 20.19094185,\n",
       "         20.19464274, 20.19538028, 20.19565427, 20.19640357, 20.19753982,\n",
       "         20.19800086, 20.19861977, 20.19909586, 20.20034262, 20.20040091,\n",
       "         20.20118175, 20.2016788 , 20.20178638, 20.20357338, 20.20402376,\n",
       "         20.2041769 , 20.20423647, 20.20441279, 20.20570496, 20.20908286,\n",
       "         20.20913376, 20.20930853, 20.2122041 , 20.21293351, 20.21329565,\n",
       "         20.21429011, 20.21461662, 20.21687223, 20.21700065, 20.2171551 ,\n",
       "         20.21715864, 20.2181069 , 20.21824524, 20.22266447, 20.22345123,\n",
       "         20.22369374, 20.22478496, 20.2249505 , 20.22548433, 20.22687136,\n",
       "         20.22688276, 20.22784585, 20.22785241, 20.22785432, 20.22788434,\n",
       "         20.22947021, 20.22979736, 20.23198664, 20.23274169, 20.23311648,\n",
       "         20.23481097, 20.23553325, 20.23631158, 20.23952635, 20.24214408,\n",
       "         20.24331853, 20.24391303, 20.24392627, 20.24429116, 20.24478595,\n",
       "         20.24627062, 20.24950026, 20.24990774, 20.25004747, 20.25041762,\n",
       "         20.25214   , 20.25266769, 20.25337388, 20.25365864, 20.25391548,\n",
       "         20.25395599, 20.25403405, 20.25434518, 20.2545567 , 20.25504483,\n",
       "         20.25627619, 20.25677629, 20.25679935, 20.25904196, 20.25930294,\n",
       "         20.25963687, 20.25977998, 20.26277667, 20.26472913, 20.26588586,\n",
       "         20.26919126, 20.26962544, 20.26998174, 20.27024899, 20.2708685 ,\n",
       "         20.27170997, 20.27214637, 20.27221806, 20.27260897, 20.27366089,\n",
       "         20.27385931, 20.27647747, 20.27768946, 20.27794748, 20.2806875 ,\n",
       "         20.28084534, 20.28129768, 20.28150164, 20.2815481 , 20.28430819,\n",
       "         20.28528148, 20.2855284 , 20.28672137, 20.28794963, 20.28868591,\n",
       "         20.28928393, 20.2897976 , 20.29174144, 20.29378176, 20.29403462,\n",
       "         20.29615497, 20.29618301, 20.29646621, 20.29835134, 20.29841655,\n",
       "         20.29850879, 20.300452  , 20.30139038, 20.30171986, 20.30226767,\n",
       "         20.30258846, 20.30304228, 20.30393167, 20.30577728, 20.30594972,\n",
       "         20.30839242, 20.30857366, 20.30862399, 20.31030428, 20.31080995,\n",
       "         20.31193251, 20.31237887, 20.31423416, 20.31556706, 20.31644647,\n",
       "         20.31686111, 20.3169607 , 20.31720734, 20.31742398, 20.31818622,\n",
       "         20.31894472, 20.31917157, 20.3199142 , 20.32016768, 20.32192024,\n",
       "         20.321954  , 20.3225684 , 20.3233479 , 20.32350088, 20.32367071,\n",
       "         20.32439212, 20.3257907 , 20.32624465, 20.32819263, 20.32893713,\n",
       "         20.33004992, 20.3304493 , 20.33065219, 20.33212884, 20.33250735,\n",
       "         20.33304469, 20.33410058, 20.33416206, 20.33472544, 20.3364817 ,\n",
       "         20.33834388, 20.33859752, 20.33860786, 20.34023339, 20.34023775,\n",
       "         20.34153524, 20.34227056, 20.34235343, 20.34361843, 20.34531089,\n",
       "         20.34605899, 20.34615253, 20.34640196, 20.34696738, 20.34883909,\n",
       "         20.34942135, 20.34946748, 20.34954245, 20.34961806, 20.35211463,\n",
       "         20.35248693, 20.35389084, 20.35532196, 20.35560228, 20.35584132,\n",
       "         20.35614491, 20.35692559, 20.35720255, 20.35721504, 20.35777924,\n",
       "         20.35801981, 20.36272013, 20.36300783, 20.3636487 , 20.36412587,\n",
       "         20.3641659 , 20.36431916, 20.36733805, 20.36783169, 20.36863868,\n",
       "         20.36923095, 20.37049756, 20.37099238, 20.37146216, 20.37265156,\n",
       "         20.37494244, 20.37598978, 20.3794834 , 20.38014483, 20.38152586,\n",
       "         20.38313693, 20.38373675, 20.38383698, 20.38388823, 20.38497384,\n",
       "         20.38616015, 20.38676474, 20.3879007 , 20.38868784, 20.38891837,\n",
       "         20.38987911, 20.39080194, 20.39184179, 20.39311091, 20.39421779,\n",
       "         20.39686513, 20.39730744, 20.3977218 , 20.39962482, 20.39979897,\n",
       "         20.40081172, 20.40230081, 20.40242812, 20.40282483, 20.40360534,\n",
       "         20.40382821, 20.40473508, 20.40506066, 20.4059061 , 20.40612855,\n",
       "         20.40886009, 20.40904604, 20.40930409, 20.41105132, 20.41116826,\n",
       "         20.41176249, 20.41216111, 20.41222509, 20.41262464, 20.41394412,\n",
       "         20.41405696, 20.41438918, 20.41542867, 20.41697583, 20.41770042,\n",
       "         20.4201669 , 20.42069501, 20.42071336, 20.42236031, 20.42251535,\n",
       "         20.42696266, 20.42763032, 20.43121973, 20.4315214 , 20.43268572,\n",
       "         20.43520314, 20.43651403, 20.43723455, 20.43882171, 20.44036716,\n",
       "         20.44337829, 20.44339382, 20.44405363, 20.44558078, 20.44608981,\n",
       "         20.44617729, 20.44936598, 20.44939787, 20.45070344, 20.45268704,\n",
       "         20.45479481, 20.4549314 , 20.45852891, 20.45998282, 20.46029199,\n",
       "         20.46478675, 20.46903903, 20.47133833, 20.47196534, 20.47252698,\n",
       "         20.47637877, 20.47797705, 20.47970577, 20.48114515, 20.48387444,\n",
       "         20.48443096, 20.48530243, 20.48628893, 20.4879792 , 20.48833015,\n",
       "         20.49062714, 20.49099512, 20.4926703 , 20.49535914, 20.49804294,\n",
       "         20.49817931, 20.49927984, 20.50363793, 20.50618432, 20.50643386,\n",
       "         20.50976657, 20.51091184, 20.51144064, 20.51167972, 20.51509257,\n",
       "         20.51981502, 20.52020556, 20.52258646, 20.52300343, 20.52371135,\n",
       "         20.52626812, 20.52737858, 20.54013197, 20.54247378, 20.54335983,\n",
       "         20.54526678, 20.54987882, 20.55253164, 20.55265905, 20.55845552,\n",
       "         20.57058219, 20.57370605, 20.57603364, 20.5866506 , 20.59381458,\n",
       "         20.60142011, 20.60558094, 20.62369946, 20.62573005, 20.62939363,\n",
       "         20.64076458, 20.64235726, 20.64842002, 20.64951934, 20.65369252,\n",
       "         20.66713718, 20.67714839, 20.77235777, 20.84293668, 20.8789282 ])),\n",
       " (0.005109062839990892, 17.737821245233427, 0.9985544092882062))"
      ]
     },
     "execution_count": 30,
     "metadata": {},
     "output_type": "execute_result"
    },
    {
     "data": {
      "image/png": "[encoded data removed]",
      "text/plain": [
       "<Figure size 432x288 with 1 Axes>"
      ]
     },
     "metadata": {
      "needs_background": "light"
     },
     "output_type": "display_data"
    }
   ],
   "source": [
    "scipy.stats.probplot(control_boot_std, dist=\"chi2\", \n",
    "                     sparams=(n_boot_samples-1), plot=plt, rvalue=True)"
   ]
  },
  {
   "cell_type": "code",
   "execution_count": 33,
   "metadata": {},
   "outputs": [],
   "source": [
    "df_con_user = df_con.groupby(by='userID')['n_clicks'].sum().to_numpy()\n",
    "df_exp_user = df_exp.groupby(by='userID')['n_clicks'].sum().to_numpy()"
   ]
  },
  {
   "cell_type": "code",
   "execution_count": 37,
   "metadata": {},
   "outputs": [
    {
     "data": {
      "text/plain": [
       "MannwhitneyuResult(statistic=38901259929.0, pvalue=4.3471471887604393e-75)"
      ]
     },
     "execution_count": 37,
     "metadata": {},
     "output_type": "execute_result"
    }
   ],
   "source": [
    "from scipy.stats import mannwhitneyu\n",
    "mannwhitneyu(df_con_user, df_exp_user)"
   ]
  },
  {
   "cell_type": "code",
   "execution_count": 90,
   "metadata": {},
   "outputs": [],
   "source": [
    "df_con_browsers = [df_con[df_con['browser'] == browser]['n_clicks'].values for browser in df['browser'].unique()]\n",
    "df_exp_browsers = [df_exp[df_exp['browser'] == browser]['n_clicks'].values for browser in df['browser'].unique()]"
   ]
  },
  {
   "cell_type": "code",
   "execution_count": 92,
   "metadata": {},
   "outputs": [
    {
     "data": {
      "text/plain": [
       "[array([ 9,  3,  5, ...,  0, 11, 10]),\n",
       " array([12,  4, 22, ...,  1,  0,  2]),\n",
       " array([2, 0, 4, ..., 3, 5, 1]),\n",
       " array([25,  1, 54, ...,  2,  1,  0]),\n",
       " array([  7, 173,  11, ...,   2,   3,   4]),\n",
       " array([36, 72,  1, ...,  4,  1,  1])]"
      ]
     },
     "execution_count": 92,
     "metadata": {},
     "output_type": "execute_result"
    }
   ],
   "source": [
    "df_con_browsers"
   ]
  },
  {
   "cell_type": "code",
   "execution_count": 96,
   "metadata": {},
   "outputs": [
    {
     "data": {
      "text/plain": [
       "[0.0272438604197241,\n",
       " 0.40760617658454984,\n",
       " 0.0,\n",
       " 0.03740060143010802,\n",
       " 0.45366656388735377,\n",
       " 0.2574055152210032]"
      ]
     },
     "execution_count": 96,
     "metadata": {},
     "output_type": "execute_result"
    }
   ],
   "source": [
    "from statsmodels.sandbox.stats.multicomp import multipletests\n",
    "mannwhitney = [mannwhitneyu(x, y).pvalue for x, y in zip(df_con_browsers, df_exp_browsers)]\n",
    "mannwhitney"
   ]
  },
  {
   "cell_type": "code",
   "execution_count": 98,
   "metadata": {},
   "outputs": [
    {
     "data": {
      "text/plain": [
       "(array([False, False,  True, False, False, False]),\n",
       " array([0.1362193 , 0.81521235, 0.        , 0.14960241, 0.81521235,\n",
       "        0.77221655]),\n",
       " 0.0042107445144894395,\n",
       " 0.004166666666666667)"
      ]
     },
     "execution_count": 98,
     "metadata": {},
     "output_type": "execute_result"
    }
   ],
   "source": [
    "multipletests(mannwhitney, 0.025, method='holm')"
   ]
  },
  {
   "cell_type": "code",
   "execution_count": 99,
   "metadata": {},
   "outputs": [
    {
     "data": {
      "text/plain": [
       "[0.4596274717919465,\n",
       " 0.4697092963514274,\n",
       " 0.5759041136008114,\n",
       " 0.36299366746282086,\n",
       " 0.4054048474338329,\n",
       " 0.40593976593513353]"
      ]
     },
     "execution_count": 99,
     "metadata": {},
     "output_type": "execute_result"
    }
   ],
   "source": [
    "[df_con[df_con['browser'] == browser]['n_nonclk_queries'].sum() / df_con[df_con['browser'] == browser]['n_queries'].sum()\n",
    "     for browser in df['browser'].unique()]"
   ]
  },
  {
   "cell_type": "code",
   "execution_count": 100,
   "metadata": {},
   "outputs": [
    {
     "data": {
      "text/plain": [
       "[0.449827469485547,\n",
       " 0.4514294190358467,\n",
       " 0.4375561736127329,\n",
       " 0.3693741284866483,\n",
       " 0.3897737648371716,\n",
       " 0.3985394721969546]"
      ]
     },
     "execution_count": 100,
     "metadata": {},
     "output_type": "execute_result"
    }
   ],
   "source": [
    "[df_exp[df_exp['browser'] == browser]['n_nonclk_queries'].sum() / df_exp[df_exp['browser'] == browser]['n_queries'].sum()\n",
    "     for browser in df['browser'].unique()]"
   ]
  },
  {
   "cell_type": "code",
   "execution_count": null,
   "metadata": {},
   "outputs": [],
   "source": []
  }
 ],
 "metadata": {
  "kernelspec": {
   "display_name": "Python 3",
   "language": "python",
   "name": "python3"
  },
  "language_info": {
   "codemirror_mode": {
    "name": "ipython",
    "version": 3
   },
   "file_extension": ".py",
   "mimetype": "text/x-python",
   "name": "python",
   "nbconvert_exporter": "python",
   "pygments_lexer": "ipython3",
   "version": "3.7.4"
  }
 },
 "nbformat": 4,
 "nbformat_minor": 2
}
